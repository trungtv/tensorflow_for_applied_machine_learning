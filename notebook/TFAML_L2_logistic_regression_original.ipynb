{
 "cells": [
  {
   "cell_type": "code",
   "execution_count": null,
   "metadata": {},
   "outputs": [],
   "source": [
    "# Import dependencies\n",
    "import numpy as np\n",
    "import matplotlib.pyplot as plt\n",
    "import tensorflow as tf\n",
    "import sklearn\n",
    "from sklearn.model_selection import train_test_split\n",
    "\n",
    "%matplotlib inline"
   ]
  },
  {
   "cell_type": "code",
   "execution_count": null,
   "metadata": {},
   "outputs": [],
   "source": [
    "data = np.genfromtxt('dataset/studied_slept_passed.csv', delimiter=',')\n",
    "\n",
    "#Get the 2 features (hours slept & hours studied)\n",
    "X = data[:, 0:2]\n",
    "# Get the result (0 suspended - 1 approved)\n",
    "Y = data[:, 2]\n",
    "\n",
    "\n",
    "# Plotting\n",
    "pos = np.where(Y == 1)\n",
    "neg = np.where(Y == 0)\n",
    "plt.scatter(X[pos, 0], X[pos, 1], marker='o', c='b')\n",
    "plt.scatter(X[neg, 0], X[neg, 1], marker='x', c='r')\n",
    "plt.xlabel('Hours studied')\n",
    "plt.ylabel('Hours slept')\n",
    "plt.legend(['Approved', 'Suspended'])\n",
    "plt.show()\n",
    "\n",
    "#Split the data in train & test\n",
    "Y_reshape = data[:,2].reshape(data[:,2].shape[0], 1)\n",
    "x_train, x_test, y_train, y_test = train_test_split(data[:, 0:2], Y_reshape)\n",
    "\n",
    "print (\"x_train shape: \" + str(x_train.shape))\n",
    "print (\"y_train shape: \" + str(y_train.shape))\n",
    "print (\"x_test shape: \" + str(x_test.shape))\n",
    "print (\"y_test shape: \" + str(y_test.shape))\n",
    "\n",
    "num_features = x_train.shape[1]"
   ]
  },
  {
   "cell_type": "code",
   "execution_count": null,
   "metadata": {},
   "outputs": [],
   "source": [
    "num_features"
   ]
  },
  {
   "cell_type": "code",
   "execution_count": null,
   "metadata": {},
   "outputs": [],
   "source": [
    "learning_rate = 0.01\n",
    "training_epochs = 1000\n",
    "\n",
    "tf.reset_default_graph()\n",
    "\n",
    "# By aving 2 features: hours slept & hours studied\n",
    "X = tf.placeholder(tf.float32, [None, num_features], name=\"X\")\n",
    "Y = tf.placeholder(tf.float32, [None, 1], name=\"Y\")\n",
    "\n",
    "# Initialize our weigts & bias\n",
    "#W = tf.get_variable(\"W\", [num_features, 1], initializer = tf.contrib.layers.xavier_initializer())\n",
    "W = tf.get_variable(\"W\", initializer = tf.constant([[0.1],[0.1]]))\n",
    "b = tf.get_variable(\"b\", [1], initializer = tf.zeros_initializer())\n",
    "\n",
    "Z = tf.add(tf.matmul(X, W), b)\n",
    "prediction = tf.nn.sigmoid(Z)\n",
    "\n",
    "# Calculate the cost\n",
    "cost = tf.reduce_mean(tf.nn.sigmoid_cross_entropy_with_logits(logits = Z, labels = Y))\n",
    "\n",
    "# Use Adam as optimization method\n",
    "optimizer = tf.train.AdamOptimizer(learning_rate).minimize(cost)\n",
    "\n",
    "init = tf.global_variables_initializer()\n",
    "\n",
    "cost_history = np.empty(shape=[1],dtype=float)"
   ]
  },
  {
   "cell_type": "code",
   "execution_count": null,
   "metadata": {},
   "outputs": [],
   "source": [
    "with tf.Session() as sess:\n",
    "    sess.run(init)\n",
    "    \n",
    "    for epoch in range(training_epochs):\n",
    "        _, c = sess.run([optimizer, cost], feed_dict={X: x_train, Y: y_train})\n",
    "        print(\"Epoch:\", '%04d' % (epoch+1), \"cost=\", \"{:.9f}\".format(c), \\\n",
    "               \"W=\", sess.run(W), \"b=\", sess.run(b))\n",
    "        cost_history = np.append(cost_history, c)\n",
    "        \n",
    "        \n",
    "    # Calculate the correct predictions\n",
    "    correct_prediction = tf.to_float(tf.greater(prediction, 0.5))\n",
    "\n",
    "    # Calculate accuracy on the test set\n",
    "    accuracy = tf.reduce_mean(tf.to_float(tf.equal(Y, correct_prediction)))\n",
    "\n",
    "    print (\"Train Accuracy:\", accuracy.eval({X: x_train, Y: y_train}))\n",
    "    print (\"Test Accuracy:\", accuracy.eval({X: x_test, Y: y_test}))\n"
   ]
  },
  {
   "cell_type": "code",
   "execution_count": null,
   "metadata": {},
   "outputs": [],
   "source": [
    "x_train[2].shape"
   ]
  },
  {
   "cell_type": "code",
   "execution_count": null,
   "metadata": {},
   "outputs": [],
   "source": [
    "y_train"
   ]
  },
  {
   "cell_type": "code",
   "execution_count": null,
   "metadata": {},
   "outputs": [],
   "source": [
    "with tf.Session() as sess:\n",
    "    print(sess.run(tf.ones([None, 2])))"
   ]
  },
  {
   "cell_type": "code",
   "execution_count": null,
   "metadata": {
    "collapsed": true
   },
   "outputs": [],
   "source": []
  }
 ],
 "metadata": {
  "kernelspec": {
   "display_name": "Python 2",
   "language": "python",
   "name": "python2"
  },
  "language_info": {
   "codemirror_mode": {
    "name": "ipython",
    "version": 2
   },
   "file_extension": ".py",
   "mimetype": "text/x-python",
   "name": "python",
   "nbconvert_exporter": "python",
   "pygments_lexer": "ipython2",
   "version": "2.7.14"
  }
 },
 "nbformat": 4,
 "nbformat_minor": 2
}
