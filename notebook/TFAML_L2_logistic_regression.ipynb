{
 "cells": [
  {
   "cell_type": "code",
   "execution_count": 1,
   "metadata": {},
   "outputs": [
    {
     "name": "stderr",
     "output_type": "stream",
     "text": [
      "/Users/trungtv/anaconda3/lib/python3.6/site-packages/h5py/__init__.py:34: FutureWarning: Conversion of the second argument of issubdtype from `float` to `np.floating` is deprecated. In future, it will be treated as `np.float64 == np.dtype(float).type`.\n",
      "  from ._conv import register_converters as _register_converters\n"
     ]
    }
   ],
   "source": [
    "# Import dependencies\n",
    "import numpy as np\n",
    "import matplotlib.pyplot as plt\n",
    "import tensorflow as tf\n",
    "import sklearn\n",
    "from sklearn.model_selection import train_test_split\n",
    "\n",
    "%matplotlib inline"
   ]
  },
  {
   "cell_type": "code",
   "execution_count": 2,
   "metadata": {
    "collapsed": true
   },
   "outputs": [],
   "source": [
    "import pandas as pd\n",
    "data = pd.read_csv('dataset/studied_slept_passed.csv', names = ['Studied', 'Slept', 'Passed'])\n",
    "data[['Studied', 'Slept', 'Passed']] = data[['Studied', 'Slept', 'Passed']].astype('float32')"
   ]
  },
  {
   "cell_type": "code",
   "execution_count": 3,
   "metadata": {},
   "outputs": [
    {
     "data": {
      "text/plain": [
       "<matplotlib.axes._subplots.AxesSubplot at 0x12e456358>"
      ]
     },
     "execution_count": 3,
     "metadata": {},
     "output_type": "execute_result"
    },
    {
     "data": {
      "image/png": "[encoded data removed]",
      "text/plain": [
       "<Figure size 432x288 with 1 Axes>"
      ]
     },
     "metadata": {},
     "output_type": "display_data"
    }
   ],
   "source": [
    "import seaborn as sns\n",
    "sns.scatterplot(x=\"Studied\", y=\"Slept\", hue=\"Passed\", data=data)"
   ]
  },
  {
   "cell_type": "code",
   "execution_count": 11,
   "metadata": {
    "collapsed": true
   },
   "outputs": [],
   "source": [
    "train, test = train_test_split(data, test_size=0.2)"
   ]
  },
  {
   "cell_type": "code",
   "execution_count": 4,
   "metadata": {
    "collapsed": true
   },
   "outputs": [],
   "source": [
    "#dataset_train = tf.data.Dataset.from_tensor_slices((train[['Studied', 'Slept']], train['Passed']))\n",
    "dataset_train = tf.data.Dataset.from_tensor_slices((data[['Studied', 'Slept']], data['Passed']))"
   ]
  },
  {
   "cell_type": "code",
   "execution_count": 5,
   "metadata": {
    "collapsed": true
   },
   "outputs": [],
   "source": [
    "iterator = dataset_train.make_initializable_iterator()\n",
    "X, Y = iterator.get_next()"
   ]
  },
  {
   "cell_type": "code",
   "execution_count": 6,
   "metadata": {},
   "outputs": [
    {
     "name": "stdout",
     "output_type": "stream",
     "text": [
      "[4.8550644 9.639961 ] 1.0\n",
      "[8.62544    0.05892653] 0.0\n",
      "[3.8281915  0.72319925] 0.0\n",
      "[7.1509547 3.8994205] 1.0\n",
      "[6.4779005 8.19818  ] 1.0\n",
      "[1.9222695 1.3314272] 0.0\n",
      "[8.978216  0.9934375] 1.0\n",
      "[6.635603 8.542803] 1.0\n",
      "[7.672359 5.4164  ] 1.0\n",
      "[4.8660154 2.0426712] 0.0\n",
      "[6.861405 9.65531 ] 1.0\n",
      "[8.5404215 2.5903742] 1.0\n",
      "[3.7178807 5.381662 ] 0.0\n",
      "[9.181297   0.17147465] 1.0\n",
      "[9.56014    0.02494648] 0.0\n",
      "[5.9713693 4.188302 ] 1.0\n",
      "[9.438203  1.9438125] 1.0\n",
      "[4.357551 9.887983] 1.0\n",
      "[4.540332  6.7138734] 1.0\n",
      "[1.5491016 9.375133 ] 0.0\n",
      "[8.081974 9.842207] 1.0\n",
      "[9.620465  2.0993276] 1.0\n",
      "[8.834771 3.152204] 1.0\n",
      "[1.7534485 4.2192426] 0.0\n",
      "[1.0432129 2.609765 ] 0.0\n",
      "[1.1963832 7.4757447] 0.0\n",
      "[8.910069 8.232928] 1.0\n",
      "[4.5296187 4.9055114] 1.0\n",
      "[1.8591124 5.6918674] 0.0\n",
      "[9.5571785 1.6446719] 1.0\n",
      "[7.154701 8.014791] 1.0\n",
      "[2.3436186 2.9587069] 0.0\n",
      "[2.9226844 8.217595 ] 1.0\n",
      "[6.333096 7.240305] 1.0\n",
      "[0.9256282 3.421267 ] 0.0\n",
      "[7.8743906 7.7910933] 1.0\n",
      "[8.347751  1.8608125] 1.0\n",
      "[5.5810614 2.4961293] 0.0\n",
      "[5.091029 9.873134] 1.0\n",
      "[4.5301714 3.761759 ] 0.0\n",
      "[1.4237779  0.22859792] 0.0\n",
      "[9.09596   1.0679171] 1.0\n",
      "[4.006616 9.792128] 1.0\n",
      "[8.976567  3.9351597] 1.0\n",
      "[0.09805287 7.2145123 ] 0.0\n",
      "[0.45238867 2.7746942 ] 0.0\n",
      "[3.8630462 3.9132023] 0.0\n",
      "[7.86385  7.726383] 1.0\n",
      "[8.922707  7.7542167] 1.0\n",
      "[7.464368 9.945176] 1.0\n"
     ]
    }
   ],
   "source": [
    "# Let check if the iterator work\n",
    "with tf.Session() as sess:\n",
    "    sess.run(iterator.initializer) # initialize the iterator\n",
    "    for i in range(50):\n",
    "        x, y = sess.run((X,Y))\n",
    "        print(x, y)"
   ]
  },
  {
   "cell_type": "code",
   "execution_count": 7,
   "metadata": {},
   "outputs": [],
   "source": [
    "num_features = 2\n",
    "learning_rate = 0.01\n",
    "training_epochs = 100\n",
    "\n",
    "#tf.reset_default_graph()\n",
    "\n",
    "# By aving 2 features: hours slept & hours studied\n",
    "#X = tf.placeholder(tf.float32, [None, num_features], name=\"X\")\n",
    "#Y = tf.placeholder(tf.float32, [None, 1], name=\"Y\")\n",
    "\n",
    "# Initialize our weigts & bias\n",
    "W = tf.get_variable(\"W\", [num_features, 1], initializer = tf.contrib.layers.xavier_initializer())\n",
    "#W = tf.get_variable(\"W\", initializer = tf.fill([num_features, 1], 0.1)) #tf.constant([[0.1],[0.1]])\n",
    "#W = tf.get_variable(\"W\", initializer = tf.fill([num_features, 1], 0.1))\n",
    "b = tf.get_variable(\"b\", [1], initializer = tf.zeros_initializer())"
   ]
  },
  {
   "cell_type": "code",
   "execution_count": 8,
   "metadata": {
    "collapsed": true
   },
   "outputs": [],
   "source": [
    "d = tf.matmul(tf.reshape(X, [1, num_features]), W)"
   ]
  },
  {
   "cell_type": "code",
   "execution_count": 9,
   "metadata": {
    "collapsed": true
   },
   "outputs": [],
   "source": [
    "Z = tf.add(d, b)\n",
    "prediction = tf.nn.sigmoid(Z)\n",
    "\n",
    "Y_reshape = tf.reshape(Y, [1,1])\n",
    "# Calculate the cost\n",
    "cost = tf.reduce_mean(tf.nn.sigmoid_cross_entropy_with_logits(logits = Z, labels = Y_reshape))\n",
    "\n",
    "# Use Adam as optimization method\n",
    "optimizer = tf.train.AdamOptimizer(learning_rate).minimize(cost)\n",
    "\n",
    "init = tf.global_variables_initializer()\n",
    "\n",
    "cost_history = np.empty(shape=[1],dtype=float)"
   ]
  },
  {
   "cell_type": "code",
   "execution_count": 12,
   "metadata": {},
   "outputs": [
    {
     "name": "stdout",
     "output_type": "stream",
     "text": [
      "Epoch: 0001 cost= 1.563845754 W= [[-0.34832057]\n",
      " [ 0.4619176 ]] b= [0.21847515]\n",
      "Epoch: 0002 cost= 1.226639986 W= [[-0.1402366 ]\n",
      " [ 0.27635002]] b= [0.07355963]\n",
      "Epoch: 0003 cost= 0.894055367 W= [[-0.01073644]\n",
      " [ 0.1289205 ]] b= [-0.1150244]\n",
      "Epoch: 0004 cost= 0.735560894 W= [[0.06958197]\n",
      " [0.06337001]] b= [-0.30204645]\n",
      "Epoch: 0005 cost= 0.650755465 W= [[0.11591843]\n",
      " [0.04408954]] b= [-0.4885661]\n",
      "Epoch: 0006 cost= 0.594539046 W= [[0.14527395]\n",
      " [0.04525163]] b= [-0.6732217]\n",
      "Epoch: 0007 cost= 0.551063836 W= [[0.16700988]\n",
      " [0.05490092]] b= [-0.8544312]\n",
      "Epoch: 0008 cost= 0.514309168 W= [[0.18537405]\n",
      " [0.06786024]] b= [-1.0312467]\n",
      "Epoch: 0009 cost= 0.481806993 W= [[0.20216288]\n",
      " [0.08193548]] b= [-1.2031951]\n",
      "Epoch: 0010 cost= 0.452459604 W= [[0.2181021 ]\n",
      " [0.09621896]] b= [-1.3700883]\n",
      "Epoch: 0011 cost= 0.425709367 W= [[0.23347619]\n",
      " [0.11034597]] b= [-1.5319092]\n",
      "Epoch: 0012 cost= 0.401215494 W= [[0.2483958 ]\n",
      " [0.12417591]] b= [-1.6887383]\n",
      "Epoch: 0013 cost= 0.378729045 W= [[0.26290712]\n",
      " [0.1376591 ]] b= [-1.8407166]\n",
      "Epoch: 0014 cost= 0.358045399 W= [[0.2770332]\n",
      " [0.1507832]] b= [-1.9880207]\n",
      "Epoch: 0015 cost= 0.338986963 W= [[0.29078987]\n",
      " [0.16355042]] b= [-2.1308432]\n",
      "Epoch: 0016 cost= 0.321396679 W= [[0.30419102]\n",
      " [0.17597026]] b= [-2.2693868]\n",
      "Epoch: 0017 cost= 0.305133760 W= [[0.31724972]\n",
      " [0.1880543 ]] b= [-2.4038544]\n",
      "Epoch: 0018 cost= 0.290072948 W= [[0.32997918]\n",
      " [0.19981578]] b= [-2.5344443]\n",
      "Epoch: 0019 cost= 0.276101649 W= [[0.34239253]\n",
      " [0.21126817]] b= [-2.661351]\n",
      "Epoch: 0020 cost= 0.263119996 W= [[0.35450238]\n",
      " [0.2224249 ]] b= [-2.7847567]\n",
      "Epoch: 0021 cost= 0.251038104 W= [[0.36632133]\n",
      " [0.23329897]] b= [-2.9048376]\n",
      "Epoch: 0022 cost= 0.239775717 W= [[0.37786117]\n",
      " [0.24390295]] b= [-3.0217586]\n",
      "Epoch: 0023 cost= 0.229261190 W= [[0.38913336]\n",
      " [0.25424895]] b= [-3.1356745]\n",
      "Epoch: 0024 cost= 0.219430313 W= [[0.40014905]\n",
      " [0.2643485 ]] b= [-3.2467315]\n",
      "Epoch: 0025 cost= 0.210225269 W= [[0.41091812]\n",
      " [0.2742124 ]] b= [-3.3550649]\n",
      "Epoch: 0026 cost= 0.201594353 W= [[0.42145097]\n",
      " [0.28385103]] b= [-3.4608037]\n",
      "Epoch: 0027 cost= 0.193490848 W= [[0.4317568 ]\n",
      " [0.29327434]] b= [-3.5640678]\n",
      "Epoch: 0028 cost= 0.185872644 W= [[0.4418449]\n",
      " [0.3024913]] b= [-3.66497]\n",
      "Epoch: 0029 cost= 0.178701967 W= [[0.4517233 ]\n",
      " [0.31151053]] b= [-3.7636118]\n",
      "Epoch: 0030 cost= 0.171944126 W= [[0.46139988]\n",
      " [0.3203403 ]] b= [-3.8600948]\n",
      "Epoch: 0031 cost= 0.165568456 W= [[0.47088253]\n",
      " [0.32898837]] b= [-3.954508]\n",
      "Epoch: 0032 cost= 0.159546569 W= [[0.48017818]\n",
      " [0.33746168]] b= [-4.046937]\n",
      "Epoch: 0033 cost= 0.153852612 W= [[0.4892937 ]\n",
      " [0.34576732]] b= [-4.137464]\n",
      "Epoch: 0034 cost= 0.148463339 W= [[0.49823537]\n",
      " [0.35391116]] b= [-4.2261624]\n",
      "Epoch: 0035 cost= 0.143357381 W= [[0.50700957]\n",
      " [0.36190006]] b= [-4.3131065]\n",
      "Epoch: 0036 cost= 0.138515264 W= [[0.5156217 ]\n",
      " [0.36973897]] b= [-4.3983593]\n",
      "Epoch: 0037 cost= 0.133919075 W= [[0.5240772 ]\n",
      " [0.37743342]] b= [-4.4819846]\n",
      "Epoch: 0038 cost= 0.129552528 W= [[0.53238165]\n",
      " [0.38498905]] b= [-4.5640435]\n",
      "Epoch: 0039 cost= 0.125400648 W= [[0.54054]\n",
      " [0.39241]] b= [-4.6445904]\n",
      "Epoch: 0040 cost= 0.121449344 W= [[0.5485568 ]\n",
      " [0.39970118]] b= [-4.72368]\n",
      "Epoch: 0041 cost= 0.117686115 W= [[0.55643624]\n",
      " [0.40686694]] b= [-4.801361]\n",
      "Epoch: 0042 cost= 0.114099093 W= [[0.5641834]\n",
      " [0.4139115]] b= [-4.8776836]\n",
      "Epoch: 0043 cost= 0.110677451 W= [[0.5718018 ]\n",
      " [0.42083827]] b= [-4.95269]\n",
      "Epoch: 0044 cost= 0.107411474 W= [[0.5792954 ]\n",
      " [0.42765135]] b= [-5.0264225]\n",
      "Epoch: 0045 cost= 0.104291566 W= [[0.58666855]\n",
      " [0.43435454]] b= [-5.0989265]\n",
      "Epoch: 0046 cost= 0.101308972 W= [[0.59392357]\n",
      " [0.44095075]] b= [-5.1702375]\n",
      "Epoch: 0047 cost= 0.098456264 W= [[0.60106534]\n",
      " [0.4474433 ]] b= [-5.2403917]\n",
      "Epoch: 0048 cost= 0.095725685 W= [[0.60809636]\n",
      " [0.45383558]] b= [-5.3094263]\n",
      "Epoch: 0049 cost= 0.093110353 W= [[0.61501956]\n",
      " [0.4601301 ]] b= [-5.377374]\n",
      "Epoch: 0050 cost= 0.090604052 W= [[0.62183845]\n",
      " [0.46632996]] b= [-5.4442663]\n",
      "Epoch: 0051 cost= 0.088200778 W= [[0.6285555 ]\n",
      " [0.47243765]] b= [-5.510133]\n",
      "Epoch: 0052 cost= 0.085894682 W= [[0.63517404]\n",
      " [0.47845587]] b= [-5.575008]\n",
      "Epoch: 0053 cost= 0.083680920 W= [[0.6416962 ]\n",
      " [0.48438725]] b= [-5.6389146]\n",
      "Epoch: 0054 cost= 0.081554316 W= [[0.6481252]\n",
      " [0.4902339]] b= [-5.7018843]\n",
      "Epoch: 0055 cost= 0.079510614 W= [[0.65446293]\n",
      " [0.49599797]] b= [-5.7639384]\n",
      "Epoch: 0056 cost= 0.077545501 W= [[0.6607118 ]\n",
      " [0.50168186]] b= [-5.8251023]\n",
      "Epoch: 0057 cost= 0.075654835 W= [[0.66687447]\n",
      " [0.5072879 ]] b= [-5.885404]\n",
      "Epoch: 0058 cost= 0.073835097 W= [[0.67295295]\n",
      " [0.5128179 ]] b= [-5.9448624]\n",
      "Epoch: 0059 cost= 0.072082557 W= [[0.6789495]\n",
      " [0.5182738]] b= [-6.003502]\n",
      "Epoch: 0060 cost= 0.070394084 W= [[0.6848656]\n",
      " [0.5236572]] b= [-6.061341]\n",
      "Epoch: 0061 cost= 0.068766586 W= [[0.69070387]\n",
      " [0.52897006]] b= [-6.1184006]\n",
      "Epoch: 0062 cost= 0.067197047 W= [[0.6964661]\n",
      " [0.5342143]] b= [-6.1747026]\n",
      "Epoch: 0063 cost= 0.065682910 W= [[0.7021539 ]\n",
      " [0.53939134]] b= [-6.2302623]\n",
      "Epoch: 0064 cost= 0.064221270 W= [[0.7077694]\n",
      " [0.5445034]] b= [-6.285105]\n",
      "Epoch: 0065 cost= 0.062809974 W= [[0.71331406]\n",
      " [0.54955155]] b= [-6.3392434]\n",
      "Epoch: 0066 cost= 0.061446715 W= [[0.71879   ]\n",
      " [0.55453724]] b= [-6.3926926]\n",
      "Epoch: 0067 cost= 0.060129225 W= [[0.7241979 ]\n",
      " [0.55946165]] b= [-6.44547]\n",
      "Epoch: 0068 cost= 0.058855537 W= [[0.72953993]\n",
      " [0.56432676]] b= [-6.4975924]\n",
      "Epoch: 0069 cost= 0.057623569 W= [[0.7348177]\n",
      " [0.5691339]] b= [-6.5490785]\n",
      "Epoch: 0070 cost= 0.056431662 W= [[0.74003273]\n",
      " [0.5738841 ]] b= [-6.599939]\n",
      "Epoch: 0071 cost= 0.055278011 W= [[0.74518603]\n",
      " [0.57857925]] b= [-6.6501904]\n",
      "Epoch: 0072 cost= 0.054161008 W= [[0.75027907]\n",
      " [0.5832193 ]] b= [-6.6998425]\n",
      "Epoch: 0073 cost= 0.053079210 W= [[0.7553132]\n",
      " [0.5878065]] b= [-6.7489104]\n",
      "Epoch: 0074 cost= 0.052030936 W= [[0.7602898]\n",
      " [0.5923418]] b= [-6.7974095]\n",
      "Epoch: 0075 cost= 0.051014848 W= [[0.7652101 ]\n",
      " [0.59682596]] b= [-6.8453507]\n",
      "Epoch: 0076 cost= 0.050029628 W= [[0.7700754 ]\n",
      " [0.60126066]] b= [-6.892749]\n",
      "Epoch: 0077 cost= 0.049074229 W= [[0.77488667]\n",
      " [0.605647  ]] b= [-6.9396114]\n",
      "Epoch: 0078 cost= 0.048147164 W= [[0.77964485]\n",
      " [0.609985  ]] b= [-6.9859505]\n",
      "Epoch: 0079 cost= 0.047247563 W= [[0.7843512]\n",
      " [0.6142766]] b= [-7.0317764]\n",
      "Epoch: 0080 cost= 0.046374142 W= [[0.7890069 ]\n",
      " [0.61852205]] b= [-7.0771017]\n",
      "Epoch: 0081 cost= 0.045525938 W= [[0.79361296]\n",
      " [0.62272286]] b= [-7.1219373]\n",
      "Epoch: 0082 cost= 0.044701979 W= [[0.7981706 ]\n",
      " [0.62687945]] b= [-7.166292]\n",
      "Epoch: 0083 cost= 0.043901369 W= [[0.80268025]\n",
      " [0.6309929 ]] b= [-7.210175]\n",
      "Epoch: 0084 cost= 0.043123160 W= [[0.8071435]\n",
      " [0.6350644]] b= [-7.2535996]\n",
      "Epoch: 0085 cost= 0.042366568 W= [[0.81156063]\n",
      " [0.63909453]] b= [-7.2965713]\n",
      "Epoch: 0086 cost= 0.041630808 W= [[0.8159332 ]\n",
      " [0.64308405]] b= [-7.3390994]\n",
      "Epoch: 0087 cost= 0.040915083 W= [[0.82026124]\n",
      " [0.6470338 ]] b= [-7.381192]\n",
      "Epoch: 0088 cost= 0.040218685 W= [[0.8245464 ]\n",
      " [0.65094405]] b= [-7.4228578]\n",
      "Epoch: 0089 cost= 0.039540842 W= [[0.8287888]\n",
      " [0.6548161]] b= [-7.4641066]\n",
      "Epoch: 0090 cost= 0.038880967 W= [[0.83298963]\n",
      " [0.65865076]] b= [-7.5049453]\n",
      "Epoch: 0091 cost= 0.038238350 W= [[0.8371503]\n",
      " [0.6624482]] b= [-7.545383]\n",
      "Epoch: 0092 cost= 0.037612531 W= [[0.84127027]\n",
      " [0.66620946]] b= [-7.585422]\n",
      "Epoch: 0093 cost= 0.037002705 W= [[0.8453507]\n",
      " [0.6699348]] b= [-7.6250753]\n",
      "Epoch: 0094 cost= 0.036408503 W= [[0.8493926 ]\n",
      " [0.67362547]] b= [-7.6643476]\n",
      "Epoch: 0095 cost= 0.035829362 W= [[0.8533964]\n",
      " [0.6772817]] b= [-7.7032447]\n",
      "Epoch: 0096 cost= 0.035264689 W= [[0.857363 ]\n",
      " [0.6809039]] b= [-7.741776]\n",
      "Epoch: 0097 cost= 0.034714065 W= [[0.861293  ]\n",
      " [0.68449295]] b= [-7.7799454]\n",
      "Epoch: 0098 cost= 0.034177072 W= [[0.86518663]\n",
      " [0.68804955]] b= [-7.8177595]\n",
      "Epoch: 0099 cost= 0.033653129 W= [[0.8690449 ]\n",
      " [0.69157386]] b= [-7.855225]\n",
      "Epoch: 0100 cost= 0.033141945 W= [[0.8728684]\n",
      " [0.6950666]] b= [-7.892347]\n",
      "n_correct: 45 / total: 80 Train Accuracy 0.5625\n"
     ]
    }
   ],
   "source": [
    "n_correct = 0\n",
    "with tf.Session() as sess:\n",
    "    sess.run(init)\n",
    "    \n",
    "    for epoch in range(training_epochs):\n",
    "        sess.run(iterator.initializer) # initialize the iterator\n",
    "        try:\n",
    "            while True:\n",
    "                #_, c = sess.run([optimizer, cost], feed_dict={X: x_train, Y: y_train})\n",
    "                _, c = sess.run([optimizer, cost])\n",
    "        except tf.errors.OutOfRangeError:\n",
    "            pass\n",
    "\n",
    "        print(\"Epoch:\", '%04d' % (epoch+1), \"cost=\", \"{:.9f}\".format(c), \\\n",
    "               \"W=\", sess.run(W), \"b=\", sess.run(b))\n",
    "        cost_history = np.append(cost_history, c)\n",
    "        \n",
    "    \n",
    "    sess.run(iterator.initializer) # initialize the iterator\n",
    "    correct_prediction = tf.to_float(tf.greater(prediction, 0.5))\n",
    "    for i in range(len(train)):\n",
    "        tmp = sess.run(correct_prediction)\n",
    "        if float(tmp) == 1.0:\n",
    "            n_correct += 1\n",
    "    print (\"n_correct: {} / total: {} Train Accuracy {}\".format(n_correct, len(train), n_correct/len(train)))"
   ]
  },
  {
   "cell_type": "code",
   "execution_count": null,
   "metadata": {
    "collapsed": true
   },
   "outputs": [],
   "source": [
    "    #print (\"Train Accuracy:\", accuracy.eval({X: x_train, Y: y_train}))\n",
    "    print (\"Train Accuracy:\", accuracy.eval({X: X, Y: Y}))\n",
    "    #print (\"Test Accuracy:\", accuracy.eval({X: x_test, Y: y_test}))\n"
   ]
  },
  {
   "cell_type": "code",
   "execution_count": null,
   "metadata": {
    "collapsed": true
   },
   "outputs": [],
   "source": [
    "w_hat"
   ]
  },
  {
   "cell_type": "code",
   "execution_count": null,
   "metadata": {
    "collapsed": true
   },
   "outputs": [],
   "source": [
    "b_hat"
   ]
  },
  {
   "cell_type": "code",
   "execution_count": null,
   "metadata": {
    "collapsed": true,
    "scrolled": true
   },
   "outputs": [],
   "source": [
    "data['Predicted'] = data['Studied'] * w_hat[0] + data['Slept'] * "
   ]
  },
  {
   "cell_type": "code",
   "execution_count": null,
   "metadata": {
    "collapsed": true
   },
   "outputs": [],
   "source": [
    "len(data)"
   ]
  },
  {
   "cell_type": "code",
   "execution_count": null,
   "metadata": {
    "collapsed": true
   },
   "outputs": [],
   "source": []
  }
 ],
 "metadata": {
  "kernelspec": {
   "display_name": "Python 3",
   "language": "python",
   "name": "python3"
  },
  "language_info": {
   "codemirror_mode": {
    "name": "ipython",
    "version": 3
   },
   "file_extension": ".py",
   "mimetype": "text/x-python",
   "name": "python",
   "nbconvert_exporter": "python",
   "pygments_lexer": "ipython3",
   "version": "3.6.3"
  }
 },
 "nbformat": 4,
 "nbformat_minor": 2
}
