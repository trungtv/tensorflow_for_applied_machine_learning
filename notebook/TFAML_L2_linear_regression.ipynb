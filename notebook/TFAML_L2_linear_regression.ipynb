{
 "cells": [
  {
   "cell_type": "markdown",
   "metadata": {},
   "source": [
    "# Linear Regression on Swedish Auto Insurance Dataset\n",
    "Auto Insurance in Sweden  \n",
    "\n",
    "In the following data  \n",
    "X = number of claims  \n",
    "Y = total payment for all the claims in thousands of Swedish Kronor  \n",
    "for geographical zones in Sweden  \n",
    "Reference: Swedish Committee on Analysis of Risk Premium in Motor Insurance  \n",
    "http://college.hmco.com/mathematics/brase/understandable_statistics/7e/students/datasets/slr/frames/frame.html  \n",
    "\n",
    "Credits: some materials are borrowed from the following resources\n",
    "1. https://github.com/RishiSD/Linear-regression-on-Swedish-Auto-Insurance-dataset/blob/master/Swedish%20Auto%20Insurance.ipynb\n",
    "2. https://github.com/chiphuyen/stanford-tensorflow-tutorials/blob/master/examples/03_linreg_dataset.py"
   ]
  },
  {
   "cell_type": "markdown",
   "metadata": {},
   "source": [
    "## Step1: Reading data"
   ]
  },
  {
   "cell_type": "code",
   "execution_count": 1,
   "metadata": {
    "collapsed": true
   },
   "outputs": [],
   "source": [
    "import warnings\n",
    "warnings.filterwarnings('ignore')\n",
    "\n",
    "import pandas as pd"
   ]
  },
  {
   "cell_type": "code",
   "execution_count": 2,
   "metadata": {
    "collapsed": true
   },
   "outputs": [],
   "source": [
    "df = pd.read_csv('dataset/AutoInsurSweden.txt', sep='\\t', skiprows=10, decimal=',')"
   ]
  },
  {
   "cell_type": "code",
   "execution_count": 3,
   "metadata": {},
   "outputs": [
    {
     "data": {
      "text/html": [
       "<div>\n",
       "<style scoped>\n",
       "    .dataframe tbody tr th:only-of-type {\n",
       "        vertical-align: middle;\n",
       "    }\n",
       "\n",
       "    .dataframe tbody tr th {\n",
       "        vertical-align: top;\n",
       "    }\n",
       "\n",
       "    .dataframe thead th {\n",
       "        text-align: right;\n",
       "    }\n",
       "</style>\n",
       "<table border=\"1\" class=\"dataframe\">\n",
       "  <thead>\n",
       "    <tr style=\"text-align: right;\">\n",
       "      <th></th>\n",
       "      <th>X</th>\n",
       "      <th>Y</th>\n",
       "    </tr>\n",
       "  </thead>\n",
       "  <tbody>\n",
       "    <tr>\n",
       "      <th>0</th>\n",
       "      <td>108</td>\n",
       "      <td>392.5</td>\n",
       "    </tr>\n",
       "    <tr>\n",
       "      <th>1</th>\n",
       "      <td>19</td>\n",
       "      <td>46.2</td>\n",
       "    </tr>\n",
       "    <tr>\n",
       "      <th>2</th>\n",
       "      <td>13</td>\n",
       "      <td>15.7</td>\n",
       "    </tr>\n",
       "    <tr>\n",
       "      <th>3</th>\n",
       "      <td>124</td>\n",
       "      <td>422.2</td>\n",
       "    </tr>\n",
       "    <tr>\n",
       "      <th>4</th>\n",
       "      <td>40</td>\n",
       "      <td>119.4</td>\n",
       "    </tr>\n",
       "  </tbody>\n",
       "</table>\n",
       "</div>"
      ],
      "text/plain": [
       "     X      Y\n",
       "0  108  392.5\n",
       "1   19   46.2\n",
       "2   13   15.7\n",
       "3  124  422.2\n",
       "4   40  119.4"
      ]
     },
     "execution_count": 3,
     "metadata": {},
     "output_type": "execute_result"
    }
   ],
   "source": [
    "# let print df or df.head()\n",
    "df.head()"
   ]
  },
  {
   "cell_type": "code",
   "execution_count": 4,
   "metadata": {
    "collapsed": true
   },
   "outputs": [],
   "source": [
    "df[['X', 'Y']] = df[['X', 'Y']].astype('float32')"
   ]
  },
  {
   "cell_type": "code",
   "execution_count": 5,
   "metadata": {},
   "outputs": [
    {
     "data": {
      "text/html": [
       "<div>\n",
       "<style scoped>\n",
       "    .dataframe tbody tr th:only-of-type {\n",
       "        vertical-align: middle;\n",
       "    }\n",
       "\n",
       "    .dataframe tbody tr th {\n",
       "        vertical-align: top;\n",
       "    }\n",
       "\n",
       "    .dataframe thead th {\n",
       "        text-align: right;\n",
       "    }\n",
       "</style>\n",
       "<table border=\"1\" class=\"dataframe\">\n",
       "  <thead>\n",
       "    <tr style=\"text-align: right;\">\n",
       "      <th></th>\n",
       "      <th>X</th>\n",
       "      <th>Y</th>\n",
       "    </tr>\n",
       "  </thead>\n",
       "  <tbody>\n",
       "    <tr>\n",
       "      <th>count</th>\n",
       "      <td>63.000000</td>\n",
       "      <td>63.000000</td>\n",
       "    </tr>\n",
       "    <tr>\n",
       "      <th>mean</th>\n",
       "      <td>22.904762</td>\n",
       "      <td>98.187302</td>\n",
       "    </tr>\n",
       "    <tr>\n",
       "      <th>std</th>\n",
       "      <td>23.351944</td>\n",
       "      <td>87.327553</td>\n",
       "    </tr>\n",
       "    <tr>\n",
       "      <th>min</th>\n",
       "      <td>0.000000</td>\n",
       "      <td>0.000000</td>\n",
       "    </tr>\n",
       "    <tr>\n",
       "      <th>25%</th>\n",
       "      <td>7.500000</td>\n",
       "      <td>38.849998</td>\n",
       "    </tr>\n",
       "    <tr>\n",
       "      <th>50%</th>\n",
       "      <td>14.000000</td>\n",
       "      <td>73.400002</td>\n",
       "    </tr>\n",
       "    <tr>\n",
       "      <th>75%</th>\n",
       "      <td>29.000000</td>\n",
       "      <td>140.000000</td>\n",
       "    </tr>\n",
       "    <tr>\n",
       "      <th>max</th>\n",
       "      <td>124.000000</td>\n",
       "      <td>422.200012</td>\n",
       "    </tr>\n",
       "  </tbody>\n",
       "</table>\n",
       "</div>"
      ],
      "text/plain": [
       "                X           Y\n",
       "count   63.000000   63.000000\n",
       "mean    22.904762   98.187302\n",
       "std     23.351944   87.327553\n",
       "min      0.000000    0.000000\n",
       "25%      7.500000   38.849998\n",
       "50%     14.000000   73.400002\n",
       "75%     29.000000  140.000000\n",
       "max    124.000000  422.200012"
      ]
     },
     "execution_count": 5,
     "metadata": {},
     "output_type": "execute_result"
    }
   ],
   "source": [
    "# Displaying basic stats for the columns\n",
    "df.describe(include='all')"
   ]
  },
  {
   "cell_type": "markdown",
   "metadata": {},
   "source": [
    "## Visualization using seaborn and matplotlib\n",
    "Plotting the distribution of the feature and label from the Dataset.\n",
    "\n",
    "We can see that the distributions have approximately the same shape which indicates that there is a strong linear relationship between the feature and label."
   ]
  },
  {
   "cell_type": "code",
   "execution_count": 6,
   "metadata": {},
   "outputs": [
    {
     "data": {
      "text/plain": [
       "<matplotlib.axes._subplots.AxesSubplot at 0x119516d68>"
      ]
     },
     "execution_count": 6,
     "metadata": {},
     "output_type": "execute_result"
    },
    {
     "data": {
      "image/png": "[encoded data removed]",
      "text/plain": [
       "<Figure size 1080x360 with 2 Axes>"
      ]
     },
     "metadata": {},
     "output_type": "display_data"
    }
   ],
   "source": [
    "import seaborn as sns\n",
    "import matplotlib.pyplot as plt\n",
    "%matplotlib inline\n",
    "\n",
    "fig, (ax1, ax2) = plt.subplots(1,2,figsize=(15,5))\n",
    "\n",
    "ax1.set_title('Distribution of feature X i.e. Number of Claims')\n",
    "sns.distplot(df.X,bins=50,ax=ax1)\n",
    "\n",
    "ax2.set_title('Distribution of label Y i.e. Total Payment for Corresponding claims')\n",
    "sns.distplot(df.Y,bins=50,ax=ax2)"
   ]
  },
  {
   "cell_type": "code",
   "execution_count": 7,
   "metadata": {},
   "outputs": [
    {
     "data": {
      "text/plain": [
       "<matplotlib.axes._subplots.AxesSubplot at 0x1195f2cc0>"
      ]
     },
     "execution_count": 7,
     "metadata": {},
     "output_type": "execute_result"
    },
    {
     "data": {
      "image/png": "[encoded data removed]",
      "text/plain": [
       "<Figure size 720x288 with 1 Axes>"
      ]
     },
     "metadata": {},
     "output_type": "display_data"
    }
   ],
   "source": [
    "# This displays the scatter plot for Feature and Label and fits an approximate regression line for the same.\n",
    "fig , (ax1) = plt.subplots(1,1,figsize=(10,4))\n",
    "\n",
    "ax1.set_title('Scatter plot between feature and Label')\n",
    "sns.regplot(data=df,x='X',y='Y',ax=ax1)"
   ]
  },
  {
   "cell_type": "markdown",
   "metadata": {},
   "source": [
    "## Step 2: Create Dataset and iterator"
   ]
  },
  {
   "cell_type": "code",
   "execution_count": 8,
   "metadata": {
    "collapsed": true
   },
   "outputs": [],
   "source": [
    "import tensorflow as tf"
   ]
  },
  {
   "cell_type": "code",
   "execution_count": 9,
   "metadata": {
    "collapsed": true
   },
   "outputs": [],
   "source": [
    "dataset = tf.data.Dataset.from_tensor_slices((df['X'], df['Y']))"
   ]
  },
  {
   "cell_type": "code",
   "execution_count": 10,
   "metadata": {},
   "outputs": [
    {
     "data": {
      "text/plain": [
       "<TensorSliceDataset shapes: ((), ()), types: (tf.float32, tf.float32)>"
      ]
     },
     "execution_count": 10,
     "metadata": {},
     "output_type": "execute_result"
    }
   ],
   "source": [
    "dataset"
   ]
  },
  {
   "cell_type": "code",
   "execution_count": 11,
   "metadata": {
    "collapsed": true
   },
   "outputs": [],
   "source": [
    "iterator = dataset.make_initializable_iterator()\n",
    "X, Y = iterator.get_next()"
   ]
  },
  {
   "cell_type": "code",
   "execution_count": 19,
   "metadata": {},
   "outputs": [
    {
     "name": "stdout",
     "output_type": "stream",
     "text": [
      "108.0 392.5\n",
      "19.0 46.2\n",
      "13.0 15.7\n",
      "124.0 422.2\n",
      "40.0 119.4\n",
      "57.0 170.9\n",
      "23.0 56.9\n",
      "14.0 77.5\n",
      "45.0 214.0\n",
      "10.0 65.3\n"
     ]
    }
   ],
   "source": [
    "# Let check if the iterator work\n",
    "with tf.Session() as sess:\n",
    "    sess.run(iterator.initializer) # initialize the iterator\n",
    "    for i in range(10):\n",
    "        x, y = sess.run((X,Y))\n",
    "        print(x, y)"
   ]
  },
  {
   "cell_type": "markdown",
   "metadata": {},
   "source": [
    "## Step 3: create weight and bias, initialized to 0"
   ]
  },
  {
   "cell_type": "code",
   "execution_count": 12,
   "metadata": {
    "collapsed": true
   },
   "outputs": [],
   "source": [
    "w = tf.get_variable('weights', initializer=tf.constant(0.1))\n",
    "b = tf.get_variable('bias', initializer=tf.constant(0.1))"
   ]
  },
  {
   "cell_type": "markdown",
   "metadata": {},
   "source": [
    "## Step 4: build model to predict Y"
   ]
  },
  {
   "cell_type": "code",
   "execution_count": 13,
   "metadata": {
    "collapsed": true
   },
   "outputs": [],
   "source": [
    "Y_predicted = X * w + b"
   ]
  },
  {
   "cell_type": "markdown",
   "metadata": {},
   "source": [
    "## Step 5: use the square error as the loss function"
   ]
  },
  {
   "cell_type": "code",
   "execution_count": 14,
   "metadata": {
    "collapsed": true
   },
   "outputs": [],
   "source": [
    "loss = tf.square(Y - Y_predicted, name='loss')"
   ]
  },
  {
   "cell_type": "markdown",
   "metadata": {},
   "source": [
    "## Step 6: using gradient descent with learning rate of 0.001 to minimize loss"
   ]
  },
  {
   "cell_type": "code",
   "execution_count": 15,
   "metadata": {
    "collapsed": true
   },
   "outputs": [],
   "source": [
    "optimizer = tf.train.GradientDescentOptimizer(learning_rate=0.0001).minimize(loss)"
   ]
  },
  {
   "cell_type": "code",
   "execution_count": 16,
   "metadata": {},
   "outputs": [
    {
     "name": "stdout",
     "output_type": "stream",
     "text": [
      "Epoch 0: 785280.9503501356 - 12464.776989684691\n",
      "Epoch 1: 191642.4742552042 - 3041.944035796892\n",
      "Epoch 2: 191467.95065879822 - 3039.1738199809242\n",
      "Epoch 3: 191253.14497804642 - 3035.764206000737\n",
      "Epoch 4: 191039.59429991245 - 3032.374512697023\n",
      "Epoch 5: 190827.41085216403 - 3029.0065214629212\n",
      "Epoch 6: 190616.7359856367 - 3025.6624759624874\n",
      "Epoch 7: 190407.50710499287 - 3022.3413826189344\n",
      "Epoch 8: 190199.5244270563 - 3019.040070270735\n",
      "Epoch 9: 189993.15031528473 - 3015.764290718805\n",
      "Epoch 10: 189787.98412811756 - 3012.5076845732947\n",
      "Epoch 11: 189584.46336078644 - 3009.277196202959\n",
      "Epoch 12: 189382.02185094357 - 3006.0638389038663\n",
      "Epoch 13: 189180.98887050152 - 3002.87283921431\n",
      "Epoch 14: 188981.36900568008 - 2999.7042699314297\n",
      "Epoch 15: 188783.133456707 - 2996.557673915984\n",
      "Epoch 16: 188586.10019779205 - 2993.430161869715\n",
      "Epoch 17: 188390.42000961304 - 2990.3241271367147\n",
      "Epoch 18: 188196.13174891472 - 2987.2401864907097\n",
      "Epoch 19: 188003.0149450302 - 2984.174840397305\n",
      "Epoch 20: 187811.336779356 - 2981.1323298310476\n",
      "Epoch 21: 187620.7008075714 - 2978.106362024943\n",
      "Epoch 22: 187431.41439676285 - 2975.1018158216325\n",
      "Epoch 23: 187243.43041968346 - 2972.1179431695787\n",
      "Epoch 24: 187056.8160405159 - 2969.155810166919\n",
      "Epoch 25: 186871.28399133682 - 2966.2108570053465\n",
      "Epoch 26: 186686.8639998436 - 2963.283555553073\n",
      "Epoch 27: 186503.9886894226 - 2960.380772847978\n",
      "Epoch 28: 186322.1383714676 - 2957.494259864565\n",
      "Epoch 29: 186141.50597047806 - 2954.627078896477\n",
      "Epoch 30: 185962.0564274788 - 2951.778673452044\n",
      "Epoch 31: 185783.6792025566 - 2948.94728892947\n",
      "Epoch 32: 185606.5769724846 - 2946.13614242039\n",
      "Epoch 33: 185430.66234016418 - 2943.343846669273\n",
      "Epoch 34: 185255.8582353592 - 2940.569178339035\n",
      "Epoch 35: 185082.1720046997 - 2937.8122540428526\n",
      "Epoch 36: 184909.68178844452 - 2935.074314102294\n",
      "Epoch 37: 184738.1928768158 - 2932.352267885965\n",
      "Epoch 38: 184568.11832809448 - 2929.652671874516\n",
      "Epoch 39: 184398.99491786957 - 2926.968173299517\n",
      "Epoch 40: 184231.01503658295 - 2924.301825977507\n",
      "Epoch 41: 184063.96019649506 - 2921.650161849128\n",
      "Epoch 42: 183898.11883354187 - 2919.017759262569\n",
      "Epoch 43: 183733.44018173218 - 2916.4038124084473\n",
      "Epoch 44: 183569.93430423737 - 2913.8084810196406\n",
      "Epoch 45: 183407.14184474945 - 2911.2244737261817\n",
      "Epoch 46: 183245.63323307037 - 2908.660844969371\n",
      "Epoch 47: 183085.22246932983 - 2906.114642370315\n",
      "Epoch 48: 182925.78132343292 - 2903.583830530681\n",
      "Epoch 49: 182767.3181257248 - 2901.068541678171\n",
      "Epoch 50: 182609.93294906616 - 2898.5703642708913\n",
      "Epoch 51: 182453.5179157257 - 2896.0875859639\n",
      "Epoch 52: 182298.22495174408 - 2893.622618281652\n",
      "Epoch 53: 182143.91167736053 - 2891.173201227945\n",
      "Epoch 54: 181990.41642475128 - 2888.7367686468456\n",
      "Epoch 55: 181838.10296916962 - 2886.319094748724\n",
      "Epoch 56: 181686.80187129974 - 2883.917490020631\n",
      "Epoch 57: 181536.4114627838 - 2881.530340679108\n",
      "Epoch 58: 181386.85126018524 - 2879.1563692092896\n",
      "Epoch 59: 181238.41737651825 - 2876.80027581775\n",
      "Epoch 60: 181090.96488952637 - 2874.4597601512123\n",
      "Epoch 61: 180944.44289779663 - 2872.13401425074\n",
      "Epoch 62: 180798.86917686462 - 2869.8233202676925\n",
      "Epoch 63: 180654.21957206726 - 2867.5272947947183\n",
      "Epoch 64: 180510.37500190735 - 2865.244047649323\n",
      "Epoch 65: 180367.57861709595 - 2862.977438366602\n",
      "Epoch 66: 180225.66552734375 - 2860.7248496403768\n",
      "Epoch 67: 180084.72540092468 - 2858.487704776582\n",
      "Epoch 68: 179944.4552001953 - 2856.2611936538938\n",
      "Epoch 69: 179805.28856277466 - 2854.0521994091214\n",
      "Epoch 70: 179667.0500793457 - 2851.8579377673923\n",
      "Epoch 71: 179529.55470848083 - 2849.675471563188\n",
      "Epoch 72: 179392.9737739563 - 2847.5075202215285\n",
      "Epoch 73: 179257.3652153015 - 2845.3550034174846\n",
      "Epoch 74: 179122.5242843628 - 2843.2146711803616\n",
      "Epoch 75: 178988.4195804596 - 2841.0860250866604\n",
      "Epoch 76: 178855.2982635498 - 2838.9729883103146\n",
      "Epoch 77: 178723.16522216797 - 2836.8756384471108\n",
      "Epoch 78: 178591.63552474976 - 2834.7878654722185\n",
      "Epoch 79: 178461.09722423553 - 2832.71582895612\n",
      "Epoch 80: 178331.4454050064 - 2830.6578635715305\n",
      "Epoch 81: 178202.25051403046 - 2828.6071510163565\n",
      "Epoch 82: 178074.2075958252 - 2826.574723743257\n",
      "Epoch 83: 177946.77068805695 - 2824.5519156834434\n",
      "Epoch 84: 177820.28360652924 - 2822.5441842306227\n",
      "Epoch 85: 177694.72563934326 - 2820.5512006244962\n",
      "Epoch 86: 177569.67434215546 - 2818.566259399293\n",
      "Epoch 87: 177445.59835338593 - 2816.596799260094\n",
      "Epoch 88: 177322.1106519699 - 2814.6366770153954\n",
      "Epoch 89: 177199.64861679077 - 2812.692835187155\n",
      "Epoch 90: 177077.9485692978 - 2810.761088401552\n",
      "Epoch 91: 176956.73852443695 - 2808.8371194355072\n",
      "Epoch 92: 176836.53550338745 - 2806.929134974404\n",
      "Epoch 93: 176716.90090179443 - 2805.030173044356\n",
      "Epoch 94: 176598.0839624405 - 2803.1441898800076\n",
      "Epoch 95: 176480.19984054565 - 2801.2730133419946\n",
      "Epoch 96: 176362.7145357132 - 2799.408167233543\n",
      "Epoch 97: 176246.2413187027 - 2797.559386011154\n",
      "Epoch 98: 176130.4258260727 - 2795.721044858297\n",
      "Epoch 99: 176015.21187114716 - 2793.892251922971\n",
      "w: 4.906874, b: 6.222484\n",
      "Took: 2.408632 seconds\n"
     ]
    }
   ],
   "source": [
    "import time\n",
    "start = time.time()\n",
    "n_samples = len(df)\n",
    "with tf.Session() as sess:\n",
    "    # Step 7: initialize the necessary variables, in this case, w and b\n",
    "    sess.run(tf.global_variables_initializer()) \n",
    "    writer = tf.summary.FileWriter('./graphs/linear_reg', sess.graph)\n",
    "    \n",
    "    # Step 8: train the model for 100 epochs\n",
    "    for i in range(100):\n",
    "        sess.run(iterator.initializer) # initialize the iterator\n",
    "        total_loss = 0\n",
    "        try:\n",
    "            while True:\n",
    "                _, l = sess.run([optimizer, loss]) \n",
    "                total_loss += l\n",
    "        except tf.errors.OutOfRangeError:\n",
    "            pass\n",
    "            \n",
    "        print('Epoch {0}: {1} - {2}'.format(i, total_loss, total_loss/n_samples))\n",
    "\n",
    "    # close the writer when you're done using it\n",
    "    writer.close() \n",
    "    \n",
    "    # Step 9: output the values of w and b\n",
    "    w_out, b_out = sess.run([w, b]) \n",
    "    print('w: %f, b: %f' %(w_out, b_out))\n",
    "print('Took: %f seconds' %(time.time() - start))\n"
   ]
  },
  {
   "cell_type": "code",
   "execution_count": 17,
   "metadata": {},
   "outputs": [
    {
     "data": {
      "image/png": "[encoded data removed]",
      "text/plain": [
       "<Figure size 432x288 with 1 Axes>"
      ]
     },
     "metadata": {},
     "output_type": "display_data"
    }
   ],
   "source": [
    "# plot the results\n",
    "plt.plot(df['X'], df['Y'], 'bo', label='Real data')\n",
    "plt.plot(df['X'], df['X'] * w_out + b_out, 'r', label='Predicted data with squared error')\n",
    "# plt.plot(data[:,0], data[:,0] * (-5.883589) + 85.124306, 'g', label='Predicted data with Huber loss')\n",
    "plt.legend()\n",
    "plt.show()"
   ]
  },
  {
   "cell_type": "code",
   "execution_count": null,
   "metadata": {
    "collapsed": true
   },
   "outputs": [],
   "source": []
  },
  {
   "cell_type": "code",
   "execution_count": null,
   "metadata": {
    "collapsed": true
   },
   "outputs": [],
   "source": []
  }
 ],
 "metadata": {
  "kernelspec": {
   "display_name": "Python 3",
   "language": "python",
   "name": "python3"
  },
  "language_info": {
   "codemirror_mode": {
    "name": "ipython",
    "version": 3
   },
   "file_extension": ".py",
   "mimetype": "text/x-python",
   "name": "python",
   "nbconvert_exporter": "python",
   "pygments_lexer": "ipython3",
   "version": "3.6.3"
  }
 },
 "nbformat": 4,
 "nbformat_minor": 2
}
