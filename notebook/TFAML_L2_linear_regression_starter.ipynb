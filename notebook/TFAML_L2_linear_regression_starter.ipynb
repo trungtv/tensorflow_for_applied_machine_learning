{
 "cells": [
  {
   "cell_type": "markdown",
   "metadata": {},
   "source": [
    "# Linear Regression on Swedish Auto Insurance Dataset\n",
    "Auto Insurance in Sweden  \n",
    "\n",
    "In the following data  \n",
    "X = number of claims  \n",
    "Y = total payment for all the claims in thousands of Swedish Kronor  \n",
    "for geographical zones in Sweden  \n",
    "Reference: Swedish Committee on Analysis of Risk Premium in Motor Insurance  \n",
    "http://college.hmco.com/mathematics/brase/understandable_statistics/7e/students/datasets/slr/frames/frame.html  \n",
    "\n",
    "Credits: some materials are borrowed from the following resources\n",
    "1. https://github.com/RishiSD/Linear-regression-on-Swedish-Auto-Insurance-dataset/blob/master/Swedish%20Auto%20Insurance.ipynb"
   ]
  },
  {
   "cell_type": "markdown",
   "metadata": {},
   "source": [
    "## Step1: Reading data"
   ]
  },
  {
   "cell_type": "code",
   "execution_count": 1,
   "metadata": {
    "collapsed": true
   },
   "outputs": [],
   "source": [
    "import warnings\n",
    "warnings.filterwarnings('ignore')\n",
    "\n",
    "import pandas as pd"
   ]
  },
  {
   "cell_type": "code",
   "execution_count": 2,
   "metadata": {
    "collapsed": true
   },
   "outputs": [],
   "source": [
    "df = pd.read_csv('dataset/AutoInsurSweden.txt', sep='\\t', skiprows=10, decimal=',')\n",
    "#df = pd.read_csv('dataset/AutoInsurSweden.txt', sep='\\t', skiprows=10)"
   ]
  },
  {
   "cell_type": "code",
   "execution_count": 3,
   "metadata": {},
   "outputs": [
    {
     "data": {
      "text/plain": [
       "0     392.5\n",
       "1      46.2\n",
       "2      15.7\n",
       "3     422.2\n",
       "4     119.4\n",
       "5     170.9\n",
       "6      56.9\n",
       "7      77.5\n",
       "8     214.0\n",
       "9      65.3\n",
       "10     20.9\n",
       "11    248.1\n",
       "12     23.5\n",
       "13     39.6\n",
       "14     48.8\n",
       "15      6.6\n",
       "16    134.9\n",
       "17     50.9\n",
       "18      4.4\n",
       "19    113.0\n",
       "20     14.8\n",
       "21     48.7\n",
       "22     52.1\n",
       "23     13.2\n",
       "24    103.9\n",
       "25     77.5\n",
       "26     11.8\n",
       "27     98.1\n",
       "28     27.9\n",
       "29     38.1\n",
       "      ...  \n",
       "33     40.3\n",
       "34    161.5\n",
       "35     57.2\n",
       "36    217.6\n",
       "37     58.1\n",
       "38     12.6\n",
       "39     59.6\n",
       "40     89.9\n",
       "41    202.4\n",
       "42    181.3\n",
       "43    152.8\n",
       "44    162.8\n",
       "45     73.4\n",
       "46     21.3\n",
       "47     92.6\n",
       "48     76.1\n",
       "49     39.9\n",
       "50    142.1\n",
       "51     93.0\n",
       "52     31.9\n",
       "53     32.1\n",
       "54     55.6\n",
       "55    133.3\n",
       "56    194.5\n",
       "57    137.9\n",
       "58     87.4\n",
       "59    209.8\n",
       "60     95.5\n",
       "61    244.6\n",
       "62    187.5\n",
       "Name: Y, Length: 63, dtype: float64"
      ]
     },
     "execution_count": 3,
     "metadata": {},
     "output_type": "execute_result"
    }
   ],
   "source": [
    "# let print df or df.head()\n",
    "df['Y']"
   ]
  },
  {
   "cell_type": "code",
   "execution_count": 4,
   "metadata": {
    "collapsed": true
   },
   "outputs": [],
   "source": [
    "df[['X', 'Y']] = df[['X', 'Y']].astype('float32')"
   ]
  },
  {
   "cell_type": "code",
   "execution_count": 5,
   "metadata": {},
   "outputs": [
    {
     "data": {
      "text/html": [
       "<div>\n",
       "<style scoped>\n",
       "    .dataframe tbody tr th:only-of-type {\n",
       "        vertical-align: middle;\n",
       "    }\n",
       "\n",
       "    .dataframe tbody tr th {\n",
       "        vertical-align: top;\n",
       "    }\n",
       "\n",
       "    .dataframe thead th {\n",
       "        text-align: right;\n",
       "    }\n",
       "</style>\n",
       "<table border=\"1\" class=\"dataframe\">\n",
       "  <thead>\n",
       "    <tr style=\"text-align: right;\">\n",
       "      <th></th>\n",
       "      <th>X</th>\n",
       "      <th>Y</th>\n",
       "    </tr>\n",
       "  </thead>\n",
       "  <tbody>\n",
       "    <tr>\n",
       "      <th>count</th>\n",
       "      <td>63.000000</td>\n",
       "      <td>63.000000</td>\n",
       "    </tr>\n",
       "    <tr>\n",
       "      <th>mean</th>\n",
       "      <td>22.904762</td>\n",
       "      <td>98.187302</td>\n",
       "    </tr>\n",
       "    <tr>\n",
       "      <th>std</th>\n",
       "      <td>23.351944</td>\n",
       "      <td>87.327553</td>\n",
       "    </tr>\n",
       "    <tr>\n",
       "      <th>min</th>\n",
       "      <td>0.000000</td>\n",
       "      <td>0.000000</td>\n",
       "    </tr>\n",
       "    <tr>\n",
       "      <th>25%</th>\n",
       "      <td>7.500000</td>\n",
       "      <td>38.849998</td>\n",
       "    </tr>\n",
       "    <tr>\n",
       "      <th>50%</th>\n",
       "      <td>14.000000</td>\n",
       "      <td>73.400002</td>\n",
       "    </tr>\n",
       "    <tr>\n",
       "      <th>75%</th>\n",
       "      <td>29.000000</td>\n",
       "      <td>140.000000</td>\n",
       "    </tr>\n",
       "    <tr>\n",
       "      <th>max</th>\n",
       "      <td>124.000000</td>\n",
       "      <td>422.200012</td>\n",
       "    </tr>\n",
       "  </tbody>\n",
       "</table>\n",
       "</div>"
      ],
      "text/plain": [
       "                X           Y\n",
       "count   63.000000   63.000000\n",
       "mean    22.904762   98.187302\n",
       "std     23.351944   87.327553\n",
       "min      0.000000    0.000000\n",
       "25%      7.500000   38.849998\n",
       "50%     14.000000   73.400002\n",
       "75%     29.000000  140.000000\n",
       "max    124.000000  422.200012"
      ]
     },
     "execution_count": 5,
     "metadata": {},
     "output_type": "execute_result"
    }
   ],
   "source": [
    "# Displaying basic stats for the columns\n",
    "df.describe(include='all')"
   ]
  },
  {
   "cell_type": "markdown",
   "metadata": {},
   "source": [
    "## Visualization using seaborn and matplotlib\n",
    "Plotting the distribution of the feature and label from the Dataset.\n",
    "\n",
    "We can see that the distributions have approximately the same shape which indicates that there is a strong linear relationship between the feature and label."
   ]
  },
  {
   "cell_type": "code",
   "execution_count": 6,
   "metadata": {},
   "outputs": [
    {
     "data": {
      "text/plain": [
       "<matplotlib.axes._subplots.AxesSubplot at 0x11604fd30>"
      ]
     },
     "execution_count": 6,
     "metadata": {},
     "output_type": "execute_result"
    },
    {
     "data": {
      "image/png": "[encoded data removed]",
      "text/plain": [
       "<Figure size 1080x360 with 2 Axes>"
      ]
     },
     "metadata": {},
     "output_type": "display_data"
    }
   ],
   "source": [
    "import seaborn as sns\n",
    "import matplotlib.pyplot as plt\n",
    "%matplotlib inline\n",
    "\n",
    "fig, (ax1, ax2) = plt.subplots(1,2,figsize=(15,5))\n",
    "\n",
    "ax1.set_title('Distribution of feature X i.e. Number of Claims')\n",
    "sns.distplot(df.X,bins=50,ax=ax1)\n",
    "\n",
    "ax2.set_title('Distribution of label Y i.e. Total Payment for Corresponding claims')\n",
    "sns.distplot(df.Y,bins=50,ax=ax2)"
   ]
  },
  {
   "cell_type": "code",
   "execution_count": 7,
   "metadata": {},
   "outputs": [
    {
     "data": {
      "text/plain": [
       "<matplotlib.axes._subplots.AxesSubplot at 0x10f1c3160>"
      ]
     },
     "execution_count": 7,
     "metadata": {},
     "output_type": "execute_result"
    },
    {
     "data": {
      "image/png": "[encoded data removed]",
      "text/plain": [
       "<Figure size 720x288 with 1 Axes>"
      ]
     },
     "metadata": {},
     "output_type": "display_data"
    }
   ],
   "source": [
    "# This displays the scatter plot for Feature and Label and fits an approximate regression line for the same.\n",
    "fig , (ax1) = plt.subplots(1,1,figsize=(10,4))\n",
    "\n",
    "ax1.set_title('Scatter plot between feature and Label')\n",
    "sns.regplot(data=df,x='X',y='Y',ax=ax1)"
   ]
  },
  {
   "cell_type": "markdown",
   "metadata": {},
   "source": [
    "## Step 2: Create Dataset and iterator"
   ]
  },
  {
   "cell_type": "code",
   "execution_count": 8,
   "metadata": {
    "collapsed": true
   },
   "outputs": [],
   "source": [
    "import tensorflow as tf"
   ]
  },
  {
   "cell_type": "code",
   "execution_count": 9,
   "metadata": {
    "collapsed": true
   },
   "outputs": [],
   "source": [
    "dataset = tf.data.Dataset.from_tensor_slices((df['X'], df['Y']))"
   ]
  },
  {
   "cell_type": "code",
   "execution_count": 10,
   "metadata": {},
   "outputs": [
    {
     "data": {
      "text/plain": [
       "<TensorSliceDataset shapes: ((), ()), types: (tf.float32, tf.float32)>"
      ]
     },
     "execution_count": 10,
     "metadata": {},
     "output_type": "execute_result"
    }
   ],
   "source": [
    "dataset"
   ]
  },
  {
   "cell_type": "code",
   "execution_count": 11,
   "metadata": {
    "collapsed": true
   },
   "outputs": [],
   "source": [
    "iterator = dataset.make_initializable_iterator()\n",
    "X, Y = iterator.get_next()"
   ]
  },
  {
   "cell_type": "code",
   "execution_count": 12,
   "metadata": {},
   "outputs": [
    {
     "name": "stdout",
     "output_type": "stream",
     "text": [
      "108.0 392.5\n",
      "19.0 46.2\n",
      "13.0 15.7\n",
      "124.0 422.2\n",
      "40.0 119.4\n",
      "57.0 170.9\n",
      "23.0 56.9\n",
      "14.0 77.5\n",
      "45.0 214.0\n",
      "10.0 65.3\n"
     ]
    }
   ],
   "source": [
    "# Let check if the iterator work\n",
    "with tf.Session() as sess:\n",
    "    sess.run(iterator.initializer) # initialize the iterator\n",
    "    for i in range(10):\n",
    "        x, y = sess.run((X,Y))\n",
    "        print(x, y)"
   ]
  },
  {
   "cell_type": "markdown",
   "metadata": {},
   "source": [
    "## Step 3: create weight and bias, initialized to 0"
   ]
  },
  {
   "cell_type": "code",
   "execution_count": 15,
   "metadata": {},
   "outputs": [],
   "source": [
    "# Y_predicted = w * X + b\n",
    "w = tf.Variable(0.0, name='weights')\n",
    "b = tf.Variable(0.0, name='bias')\n",
    "#w = tf.get_variable('weights', initializer=tf.constant(0.1))\n",
    "#b = tf.get_variable('bias', initializer=tf.constant(0.1))"
   ]
  },
  {
   "cell_type": "markdown",
   "metadata": {},
   "source": [
    "## Step 4: build model to predict Y"
   ]
  },
  {
   "cell_type": "code",
   "execution_count": 16,
   "metadata": {},
   "outputs": [],
   "source": [
    "Y_predicted = w * X + b"
   ]
  },
  {
   "cell_type": "markdown",
   "metadata": {},
   "source": [
    "## Step 5: use the square error as the loss function"
   ]
  },
  {
   "cell_type": "code",
   "execution_count": 17,
   "metadata": {
    "collapsed": true
   },
   "outputs": [],
   "source": [
    "loss = tf.square(Y - Y_predicted, name='loss')"
   ]
  },
  {
   "cell_type": "markdown",
   "metadata": {},
   "source": [
    "## Step 6: using gradient descent with learning rate of 0.001 to minimize loss"
   ]
  },
  {
   "cell_type": "code",
   "execution_count": 18,
   "metadata": {
    "collapsed": true
   },
   "outputs": [],
   "source": [
    "optimizer = tf.train.GradientDescentOptimizer(learning_rate=0.0001).minimize(loss)"
   ]
  },
  {
   "cell_type": "code",
   "execution_count": 19,
   "metadata": {},
   "outputs": [
    {
     "name": "stdout",
     "output_type": "stream",
     "text": [
      "Epoch 0: 825620.9191849399 - 13105.093955316506\n",
      "Epoch 1: 191920.27215816826 - 3046.353526320131\n",
      "Epoch 2: 191744.97201049328 - 3043.570984293544\n",
      "Epoch 3: 191528.2092331946 - 3040.130305288803\n",
      "Epoch 4: 191312.87791639566 - 3036.7123478792964\n",
      "Epoch 5: 191098.75547397137 - 3033.3135789519265\n",
      "Epoch 6: 190886.17524975538 - 3029.9392896786567\n",
      "Epoch 7: 190675.28595614433 - 3026.5918405737198\n",
      "Epoch 8: 190465.55950009823 - 3023.2628492079084\n",
      "Epoch 9: 190257.2853642702 - 3019.9569105439714\n",
      "Epoch 10: 190050.49710786343 - 3016.674557267673\n",
      "Epoch 11: 189845.04728400707 - 3013.413448952493\n",
      "Epoch 12: 189640.9791945219 - 3010.174272928919\n",
      "Epoch 13: 189438.21234226227 - 3006.9557514644803\n",
      "Epoch 14: 189236.7552512884 - 3003.7580198617206\n",
      "Epoch 15: 189036.81510794163 - 3000.5843667927243\n",
      "Epoch 16: 188837.98901093006 - 2997.4283969988896\n",
      "Epoch 17: 188640.79841017723 - 2994.2983874631304\n",
      "Epoch 18: 188444.78146076202 - 2991.187007313683\n",
      "Epoch 19: 188250.0099990368 - 2988.0953968101076\n",
      "Epoch 20: 188056.64228081703 - 2985.026067949477\n",
      "Epoch 21: 187864.5580947399 - 2981.9771126149194\n",
      "Epoch 22: 187673.56455349922 - 2978.9454691031624\n",
      "Epoch 23: 187484.01613235474 - 2975.9367640056307\n",
      "Epoch 24: 187295.64657497406 - 2972.9467710313343\n",
      "Epoch 25: 187108.54069638252 - 2969.976836450516\n",
      "Epoch 26: 186922.69025039673 - 2967.0268293713766\n",
      "Epoch 27: 186738.08400154114 - 2964.096571453034\n",
      "Epoch 28: 186554.71865940094 - 2961.1860104666816\n",
      "Epoch 29: 186372.66297578812 - 2958.2962377109225\n",
      "Epoch 30: 186191.51148414612 - 2955.4208172086687\n",
      "Epoch 31: 186011.7049164772 - 2952.5667447059873\n",
      "Epoch 32: 185833.13962602615 - 2949.732375016288\n",
      "Epoch 33: 185655.71994400024 - 2946.9161895873053\n",
      "Epoch 34: 185479.4637823105 - 2944.118472735087\n",
      "Epoch 35: 185304.35249185562 - 2941.338928442153\n",
      "Epoch 36: 185130.4347114563 - 2938.5783287532745\n",
      "Epoch 37: 184957.640666008 - 2935.835566127111\n",
      "Epoch 38: 184785.91702508926 - 2933.109794049036\n",
      "Epoch 39: 184615.37626218796 - 2930.4027978125073\n",
      "Epoch 40: 184445.8430738449 - 2927.711794822935\n",
      "Epoch 41: 184277.4915342331 - 2925.03954816243\n",
      "Epoch 42: 184110.33461093903 - 2922.3862636656986\n",
      "Epoch 43: 183944.31988239288 - 2919.7511092443315\n",
      "Epoch 44: 183779.2346391678 - 2917.130708558219\n",
      "Epoch 45: 183615.234085083 - 2914.527525160048\n",
      "Epoch 46: 183452.26157283783 - 2911.9406598863147\n",
      "Epoch 47: 183290.50077724457 - 2909.373028210231\n",
      "Epoch 48: 183129.75008678436 - 2906.821429948958\n",
      "Epoch 49: 182969.9050321579 - 2904.284206859649\n",
      "Epoch 50: 182811.3648300171 - 2901.767695714557\n",
      "Epoch 51: 182653.6838941574 - 2899.264823716784\n",
      "Epoch 52: 182496.9526901245 - 2896.777026827373\n",
      "Epoch 53: 182341.22294521332 - 2894.305126114497\n",
      "Epoch 54: 182186.83795261383 - 2891.85457067641\n",
      "Epoch 55: 182032.99143314362 - 2889.4125624308513\n",
      "Epoch 56: 181880.3504076004 - 2886.98968900953\n",
      "Epoch 57: 181728.76252937317 - 2884.5835322122725\n",
      "Epoch 58: 181578.12998199463 - 2882.1925393967404\n",
      "Epoch 59: 181428.2873058319 - 2879.814084219554\n",
      "Epoch 60: 181279.68227100372 - 2877.455274142916\n",
      "Epoch 61: 181132.00034713745 - 2875.1111166212295\n",
      "Epoch 62: 180985.01030635834 - 2872.777941370767\n",
      "Epoch 63: 180839.26423072815 - 2870.4645115988596\n",
      "Epoch 64: 180694.27561950684 - 2868.1631050715373\n",
      "Epoch 65: 180550.23416519165 - 2865.87673278082\n",
      "Epoch 66: 180407.22934150696 - 2863.606814944555\n",
      "Epoch 67: 180265.05940437317 - 2861.3501492757646\n",
      "Epoch 68: 180123.881275177 - 2859.109226590111\n",
      "Epoch 69: 179983.3856830597 - 2856.8791378263445\n",
      "Epoch 70: 179843.94852638245 - 2854.665849625118\n",
      "Epoch 71: 179705.41107559204 - 2852.4668424697147\n",
      "Epoch 72: 179567.79718017578 - 2850.282494923425\n",
      "Epoch 73: 179430.89396095276 - 2848.109427951631\n",
      "Epoch 74: 179295.03464317322 - 2845.952930844019\n",
      "Epoch 75: 179160.02835655212 - 2843.809973913526\n",
      "Epoch 76: 179025.63087654114 - 2841.676680580018\n",
      "Epoch 77: 178892.33089637756 - 2839.5608078790087\n",
      "Epoch 78: 178759.82257652283 - 2837.457501214648\n",
      "Epoch 79: 178628.14530563354 - 2835.367385803707\n",
      "Epoch 80: 178497.30021095276 - 2833.2904795389327\n",
      "Epoch 81: 178367.3367433548 - 2831.227567354838\n",
      "Epoch 82: 178238.2221250534 - 2829.1781289691016\n",
      "Epoch 83: 178109.83438777924 - 2827.1402283774482\n",
      "Epoch 84: 177982.3496875763 - 2825.11666170756\n",
      "Epoch 85: 177855.41271686554 - 2823.1017891565957\n",
      "Epoch 86: 177729.59882354736 - 2821.1047432309106\n",
      "Epoch 87: 177604.45016002655 - 2819.1182565083577\n",
      "Epoch 88: 177480.00517368317 - 2817.142939264812\n",
      "Epoch 89: 177356.4838590622 - 2815.182283477178\n",
      "Epoch 90: 177233.66107177734 - 2813.232715425037\n",
      "Epoch 91: 177111.58267211914 - 2811.29496304951\n",
      "Epoch 92: 176990.36804294586 - 2809.370921316601\n",
      "Epoch 93: 176869.97917461395 - 2807.4599868986343\n",
      "Epoch 94: 176750.09154701233 - 2805.557008682735\n",
      "Epoch 95: 176631.02498722076 - 2803.6670632892183\n",
      "Epoch 96: 176512.8491230011 - 2801.7912559206525\n",
      "Epoch 97: 176395.41167926788 - 2799.927169512189\n",
      "Epoch 98: 176278.6183977127 - 2798.0733079002016\n",
      "Epoch 99: 176162.47630786896 - 2796.2297826645868\n",
      "w: 4.908550, b: 6.163557\n",
      "Took: 3.380510 seconds\n"
     ]
    }
   ],
   "source": [
    "import time\n",
    "start = time.time()\n",
    "n_samples = len(df)\n",
    "with tf.Session() as sess:\n",
    "    # Step 7: initialize the necessary variables, in this case, w and b\n",
    "    sess.run(tf.global_variables_initializer()) \n",
    "    # Step 8: train the model for 100 epochs\n",
    "    for i in range(100):\n",
    "        # initialize the iterator\n",
    "        sess.run(iterator.initializer)\n",
    "        writer = tf.summary.FileWriter('./graphs/linear_reg', sess.graph)\n",
    "        total_loss = 0\n",
    "        try:\n",
    "            while True:\n",
    "                _, l = sess.run([optimizer, loss]) \n",
    "                total_loss += l\n",
    "        except tf.errors.OutOfRangeError:\n",
    "            pass\n",
    "            \n",
    "        print('Epoch {0}: {1} - {2}'.format(i, total_loss, total_loss/n_samples))\n",
    "\n",
    "    # close the writer when you're done using it\n",
    "    writer.close() \n",
    "    \n",
    "    # Step 9: output the values of w and b\n",
    "    w_out, b_out = sess.run([w, b]) \n",
    "    print('w: %f, b: %f' %(w_out, b_out))\n",
    "print('Took: %f seconds' %(time.time() - start))\n"
   ]
  },
  {
   "cell_type": "code",
   "execution_count": 20,
   "metadata": {},
   "outputs": [
    {
     "data": {
      "image/png": "[encoded data removed]",
      "text/plain": [
       "<Figure size 432x288 with 1 Axes>"
      ]
     },
     "metadata": {},
     "output_type": "display_data"
    }
   ],
   "source": [
    "# plot the results\n",
    "plt.plot(df['X'], df['Y'], 'bo', label='Real data')\n",
    "plt.plot(df['X'], df['X'] * w_out + b_out, 'r', label='Predicted data with squared error')\n",
    "plt.legend()\n",
    "plt.show()"
   ]
  },
  {
   "cell_type": "code",
   "execution_count": null,
   "metadata": {
    "collapsed": true
   },
   "outputs": [],
   "source": []
  },
  {
   "cell_type": "code",
   "execution_count": null,
   "metadata": {
    "collapsed": true
   },
   "outputs": [],
   "source": []
  }
 ],
 "metadata": {
  "kernelspec": {
   "display_name": "Python 3",
   "language": "python",
   "name": "python3"
  },
  "language_info": {
   "codemirror_mode": {
    "name": "ipython",
    "version": 3
   },
   "file_extension": ".py",
   "mimetype": "text/x-python",
   "name": "python",
   "nbconvert_exporter": "python",
   "pygments_lexer": "ipython3",
   "version": "3.6.3"
  }
 },
 "nbformat": 4,
 "nbformat_minor": 2
}
