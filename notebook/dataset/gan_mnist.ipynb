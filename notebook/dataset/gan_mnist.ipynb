{
 "cells": [
  {
   "cell_type": "markdown",
   "metadata": {},
   "source": [
    "# Using GAN for Generating Hand-written Digit Images\n",
    "\n",
    "**GAN (Generative Adversarial Network)** [[1]](#ref1) is a framework proposed by Ian Goodfellow, Yoshua Bengio and others in 2014.  \n",
    "\n",
    "A GAN can be trained to generate images from random noises.  For example, we can train a GAN on MNIST (hand-written digits dataset) to generate digit images that look like hand-written digit images from MNIST, which could be used to train other neural networks.\n",
    "\n",
    "The code in this notebook is based on the **GAN MNIST example in TensorFlow by Udacity** [[2]](#ref2) which uses TensorFlow, but we use Keras on top of TensorFlow for more straightforward construction of networks.  Many of the ideas on training are from **How to Train a GAN? Tips and tricks to make GANs work** [[4]](#ref4)."
   ]
  },
  {
   "cell_type": "markdown",
   "metadata": {},
   "source": [
    "## MNIST\n",
    "\n",
    "MNIST is a well known database of handwritten digits [[3]](#ref3)."
   ]
  },
  {
   "cell_type": "code",
   "execution_count": 1,
   "metadata": {},
   "outputs": [
    {
     "name": "stderr",
     "output_type": "stream",
     "text": [
      "Using TensorFlow backend.\n"
     ]
    }
   ],
   "source": [
    "import numpy as np\n",
    "import keras\n",
    "import keras.backend as K\n",
    "from keras.layers import Input, Dense, Activation, LeakyReLU, BatchNormalization\n",
    "from keras.models import Sequential\n",
    "from keras.optimizers import Adam\n",
    "from sklearn.model_selection import train_test_split\n",
    "import matplotlib.pyplot as plt\n",
    "%matplotlib inline"
   ]
  },
  {
   "cell_type": "markdown",
   "metadata": {},
   "source": [
    "The below will download MNIST dataset (if not already)."
   ]
  },
  {
   "cell_type": "code",
   "execution_count": 2,
   "metadata": {
    "collapsed": true
   },
   "outputs": [],
   "source": [
    "(X_train, y_train), (X_test, y_test) = keras.datasets.mnist.load_data()"
   ]
  },
  {
   "cell_type": "markdown",
   "metadata": {},
   "source": [
    "Let's examine sample images.  We use 'gray' color map since it has no color information."
   ]
  },
  {
   "cell_type": "code",
   "execution_count": 3,
   "metadata": {},
   "outputs": [
    {
     "data": {
      "image/png": "[encoded data removed]",
      "text/plain": [
       "<matplotlib.figure.Figure at 0x7fbf35aa6f28>"
      ]
     },
     "metadata": {},
     "output_type": "display_data"
    }
   ],
   "source": [
    "plt.figure(figsize=(5, 4))\n",
    "for i in range(20):\n",
    "    plt.subplot(4, 5, i+1)\n",
    "    plt.imshow(X_train[i], cmap='gray')\n",
    "    plt.xticks([])\n",
    "    plt.yticks([])\n",
    "plt.tight_layout()\n",
    "plt.show()"
   ]
  },
  {
   "cell_type": "markdown",
   "metadata": {},
   "source": [
    "All MNIST digit images come in 28x28 size."
   ]
  },
  {
   "cell_type": "code",
   "execution_count": 4,
   "metadata": {},
   "outputs": [
    {
     "data": {
      "image/png": "[encoded data removed]",
      "text/plain": [
       "<matplotlib.figure.Figure at 0x7fbf35aa6c88>"
      ]
     },
     "metadata": {},
     "output_type": "display_data"
    }
   ],
   "source": [
    "sample = X_train[17]\n",
    "\n",
    "plt.figure(figsize=(3, 2))\n",
    "plt.title(sample.shape)\n",
    "plt.imshow(sample, cmap='gray')\n",
    "plt.show()"
   ]
  },
  {
   "cell_type": "markdown",
   "metadata": {},
   "source": [
    "The minimum and maximum sizes of MNIST image data is 0 and 255 respectively."
   ]
  },
  {
   "cell_type": "code",
   "execution_count": 5,
   "metadata": {},
   "outputs": [
    {
     "data": {
      "text/plain": [
       "(0, 255)"
      ]
     },
     "execution_count": 5,
     "metadata": {},
     "output_type": "execute_result"
    }
   ],
   "source": [
    "X_train.min(), X_train.max()"
   ]
  },
  {
   "cell_type": "markdown",
   "metadata": {},
   "source": [
    "## Generator\n",
    "\n",
    "We want to build a generator that generates realistic hand-written images.  \n",
    "\n",
    "<img src='../images/gan_mnist/generator_good.png' width='65%'/>\n",
    "\n",
    "The input to the generator is called 'latent sample' which is a series of randomly generated numbers.  We use the normal distribution rather than the uniform distribution as suggested in [[4]](#ref4)."
   ]
  },
  {
   "cell_type": "code",
   "execution_count": 6,
   "metadata": {
    "collapsed": true
   },
   "outputs": [],
   "source": [
    "def make_latent_samples(n_samples, sample_size):\n",
    "    #return np.random.uniform(-1, 1, size=(n_samples, sample_size))\n",
    "    return np.random.normal(loc=0, scale=1, size=(n_samples, sample_size))"
   ]
  },
  {
   "cell_type": "markdown",
   "metadata": {},
   "source": [
    "The sample size is a hyperparameter.  Below, we use a vector of 100 randomly generated number as a sample."
   ]
  },
  {
   "cell_type": "code",
   "execution_count": 7,
   "metadata": {},
   "outputs": [
    {
     "data": {
      "text/plain": [
       "array([[ 0.27473292, -0.10655303,  1.09659154, -0.15366093, -0.61587259,\n",
       "         0.26621725, -0.01077858,  1.90989847, -1.18569009, -0.03249574,\n",
       "         0.6695888 ,  0.93482157, -1.00884217, -0.29230866, -1.13929507,\n",
       "        -0.01707456,  0.37335705,  0.33970841,  1.37859658, -0.53026397,\n",
       "         1.12131043, -1.66056623, -0.01493777,  0.808652  , -0.36080177,\n",
       "         1.18045669, -0.33343053,  0.60287437,  0.9825658 , -0.31889656,\n",
       "         0.1179318 , -0.91808507, -1.03957979,  0.40643158, -0.32754068,\n",
       "         0.80441626, -0.01966988, -0.79409032,  1.55127879,  0.34457065,\n",
       "        -0.00255198,  1.01100422,  0.56261678, -0.39284342, -0.03217389,\n",
       "         1.09418122, -0.90881511, -0.19342759,  0.3317994 ,  0.19549762,\n",
       "        -1.40058816, -0.16028498, -1.86537691,  0.6165322 , -0.4672151 ,\n",
       "        -0.23835781, -0.35751269, -0.97823372,  1.26912872, -1.29290883,\n",
       "        -0.97779726,  1.76487061, -0.33914689, -0.57437618,  0.86655979,\n",
       "        -0.27751868,  0.71869572, -1.22436248,  0.7134086 , -1.1244994 ,\n",
       "         0.99746905, -0.00786507, -0.66620361, -1.40849483, -0.26476278,\n",
       "        -0.40399178,  0.35693832, -1.45288997, -0.79326825, -0.48003003,\n",
       "        -0.15437594,  0.12191884, -0.00680743, -1.30782153,  0.45268918,\n",
       "         0.68991131,  1.85151145,  1.05853026, -0.4318387 , -0.19847975,\n",
       "        -1.13489859, -0.59428163,  0.4483107 , -1.07967249, -0.02395855,\n",
       "         1.00938931,  0.06230197, -1.74878905, -0.13811637, -0.4902213 ]])"
      ]
     },
     "execution_count": 7,
     "metadata": {},
     "output_type": "execute_result"
    }
   ],
   "source": [
    "make_latent_samples(1, 100) # generates one sample"
   ]
  },
  {
   "cell_type": "markdown",
   "metadata": {},
   "source": [
    "The generator is a simple fully connected neural network with one hidden layer with the leaky ReLU activation.  It takes one latent sample (100 values) and produces 784 (=28x28) data points which represent a digit image."
   ]
  },
  {
   "cell_type": "code",
   "execution_count": 8,
   "metadata": {},
   "outputs": [
    {
     "name": "stdout",
     "output_type": "stream",
     "text": [
      "_________________________________________________________________\n",
      "Layer (type)                 Output Shape              Param #   \n",
      "=================================================================\n",
      "dense_1 (Dense)              (None, 128)               12928     \n",
      "_________________________________________________________________\n",
      "leaky_re_lu_1 (LeakyReLU)    (None, 128)               0         \n",
      "_________________________________________________________________\n",
      "dense_2 (Dense)              (None, 784)               101136    \n",
      "_________________________________________________________________\n",
      "activation_1 (Activation)    (None, 784)               0         \n",
      "=================================================================\n",
      "Total params: 114,064\n",
      "Trainable params: 114,064\n",
      "Non-trainable params: 0\n",
      "_________________________________________________________________\n"
     ]
    }
   ],
   "source": [
    "generator = Sequential([\n",
    "    Dense(128, input_shape=(100,)),\n",
    "    LeakyReLU(alpha=0.01),\n",
    "    Dense(784),\n",
    "    Activation('tanh')\n",
    "], name='generator')\n",
    "\n",
    "generator.summary()"
   ]
  },
  {
   "cell_type": "markdown",
   "metadata": {},
   "source": [
    "The last activation is **tanh**.  According to [[4]](#ref4), this works the best.  It also means that we need to rescale the MNIST images to be between -1 and 1."
   ]
  },
  {
   "cell_type": "markdown",
   "metadata": {},
   "source": [
    "Initially, the generator can only produce garbages.\n",
    "\n",
    "<img src='../images/gan_mnist/generator_bad.png' width='65%'/>\n",
    "\n",
    "As such, the generator needs to learn how to generate realistic hand-written images from the latent sample (randomly generated numbers).\n",
    "\n",
    "How to train this generator?  That is the question tackled by GAN.\n",
    "\n",
    "Before talking about GAN, we shall discuss the discriminator."
   ]
  },
  {
   "cell_type": "markdown",
   "metadata": {},
   "source": [
    "## Discriminator\n",
    "\n",
    "The discriminator takes a digit image and classifies whether an image is real (1) or not (0).  \n",
    "\n",
    "If the input image is from the MNIST database, the discriminator should classify it as real.\n",
    "\n",
    "<img src='../images/gan_mnist/discriminator_real.png' width='50%'/>\n",
    "\n",
    "If the input image is from the generator, the discriminator should classify it as fake.\n",
    "\n",
    "<img src='../images/gan_mnist/discriminator_fake.png' width='50%'/>\n",
    "\n",
    "The discriminator is a simple fully connected neural network with one hidden layer with the leaky ReLU activation."
   ]
  },
  {
   "cell_type": "code",
   "execution_count": 9,
   "metadata": {},
   "outputs": [
    {
     "name": "stdout",
     "output_type": "stream",
     "text": [
      "_________________________________________________________________\n",
      "Layer (type)                 Output Shape              Param #   \n",
      "=================================================================\n",
      "dense_3 (Dense)              (None, 128)               100480    \n",
      "_________________________________________________________________\n",
      "leaky_re_lu_2 (LeakyReLU)    (None, 128)               0         \n",
      "_________________________________________________________________\n",
      "dense_4 (Dense)              (None, 1)                 129       \n",
      "_________________________________________________________________\n",
      "activation_2 (Activation)    (None, 1)                 0         \n",
      "=================================================================\n",
      "Total params: 100,609\n",
      "Trainable params: 100,609\n",
      "Non-trainable params: 0\n",
      "_________________________________________________________________\n"
     ]
    }
   ],
   "source": [
    "discriminator = Sequential([\n",
    "    Dense(128, input_shape=(784,)),\n",
    "    LeakyReLU(alpha=0.01),\n",
    "    Dense(1),\n",
    "    Activation('sigmoid')\n",
    "], name='discriminator')\n",
    "\n",
    "discriminator.summary()"
   ]
  },
  {
   "cell_type": "markdown",
   "metadata": {},
   "source": [
    "The last activation is **sigmoid** to tell us the probability of whether the input image is real or not.\n",
    "\n",
    "We train the discriminator using both the MNIST images and the images generated by the generator."
   ]
  },
  {
   "cell_type": "markdown",
   "metadata": {},
   "source": [
    "## GAN\n",
    "\n",
    "We connect the generator and the discriminator to produce a GAN.  \n",
    "\n",
    "It takes the latent sample, and the generator inside GAN produces a digit image which the discriminator inside GAN classifies as real or fake.\n",
    "\n",
    "<img src='../images/gan_mnist/gan.png' width='70%'/>\n",
    "\n",
    "If the generated digit image is so realistic, the discriminator in the GAN classifies it as real, which is what we want to achieve.\n",
    "\n",
    "We set the discriminator inside the GAN not-trainable, so it is merely evaluating the quality of the generated image.  The label is always 1 (real) so that if the generator fails to produce a realistic digit image, its cost becomes high, and when the back-propagation occurs in GAN, the weights in the generator network gets updated."
   ]
  },
  {
   "cell_type": "code",
   "execution_count": 10,
   "metadata": {},
   "outputs": [
    {
     "name": "stdout",
     "output_type": "stream",
     "text": [
      "_________________________________________________________________\n",
      "Layer (type)                 Output Shape              Param #   \n",
      "=================================================================\n",
      "generator (Sequential)       (None, 784)               114064    \n",
      "_________________________________________________________________\n",
      "discriminator (Sequential)   (None, 1)                 100609    \n",
      "=================================================================\n",
      "Total params: 214,673\n",
      "Trainable params: 214,673\n",
      "Non-trainable params: 0\n",
      "_________________________________________________________________\n"
     ]
    }
   ],
   "source": [
    "# maintain the same shared weights with the generator and the discriminator.\n",
    "gan = Sequential([\n",
    "    generator,\n",
    "    discriminator\n",
    "])\n",
    "\n",
    "gan.summary()"
   ]
  },
  {
   "cell_type": "markdown",
   "metadata": {},
   "source": [
    "As you can see, the GAN internally uses the same generator and the discriminator models.  The GAN maintains the same shared weights with the generator and the disriminator.  Therefore, training the GAN also trains the generator.  However, we do not want the discriminator to be affected while training the GAN.\n",
    "\n",
    "<img src='../images/gan_mnist/generator_discriminator.png' width='90%'/>\n",
    "\n",
    "We train the discriminator and the GAN in turn and repeat the training many times until both are trained well.  \n",
    "\n",
    "<img src='../images/gan_mnist/gan_overview.png' width='90%'/>\n",
    "\n",
    "While training the GAN, the back-propagation should update the weights of the generator but not the discriminator.\n",
    "\n",
    "As such, we need a way to make the discriminator trainable and non-trainable."
   ]
  },
  {
   "cell_type": "code",
   "execution_count": 11,
   "metadata": {
    "collapsed": true
   },
   "outputs": [],
   "source": [
    "def make_trainable(model, trainable):\n",
    "    for layer in model.layers:\n",
    "        layer.trainable = trainable"
   ]
  },
  {
   "cell_type": "code",
   "execution_count": 12,
   "metadata": {},
   "outputs": [
    {
     "name": "stdout",
     "output_type": "stream",
     "text": [
      "_________________________________________________________________\n",
      "Layer (type)                 Output Shape              Param #   \n",
      "=================================================================\n",
      "dense_3 (Dense)              (None, 128)               100480    \n",
      "_________________________________________________________________\n",
      "leaky_re_lu_2 (LeakyReLU)    (None, 128)               0         \n",
      "_________________________________________________________________\n",
      "dense_4 (Dense)              (None, 1)                 129       \n",
      "_________________________________________________________________\n",
      "activation_2 (Activation)    (None, 1)                 0         \n",
      "=================================================================\n",
      "Total params: 100,609\n",
      "Trainable params: 0\n",
      "Non-trainable params: 100,609\n",
      "_________________________________________________________________\n"
     ]
    }
   ],
   "source": [
    "make_trainable(discriminator, False)\n",
    "discriminator.summary()"
   ]
  },
  {
   "cell_type": "code",
   "execution_count": 13,
   "metadata": {},
   "outputs": [
    {
     "name": "stdout",
     "output_type": "stream",
     "text": [
      "_________________________________________________________________\n",
      "Layer (type)                 Output Shape              Param #   \n",
      "=================================================================\n",
      "dense_3 (Dense)              (None, 128)               100480    \n",
      "_________________________________________________________________\n",
      "leaky_re_lu_2 (LeakyReLU)    (None, 128)               0         \n",
      "_________________________________________________________________\n",
      "dense_4 (Dense)              (None, 1)                 129       \n",
      "_________________________________________________________________\n",
      "activation_2 (Activation)    (None, 1)                 0         \n",
      "=================================================================\n",
      "Total params: 100,609\n",
      "Trainable params: 100,609\n",
      "Non-trainable params: 0\n",
      "_________________________________________________________________\n"
     ]
    }
   ],
   "source": [
    "make_trainable(discriminator, True)\n",
    "discriminator.summary()"
   ]
  },
  {
   "cell_type": "markdown",
   "metadata": {},
   "source": [
    "The below function combines everything we have discussed so far to build the generator, discriminator, and GAN models and also compile them for training."
   ]
  },
  {
   "cell_type": "code",
   "execution_count": 14,
   "metadata": {
    "collapsed": true
   },
   "outputs": [],
   "source": [
    "def make_simple_GAN(sample_size, \n",
    "                    g_hidden_size, \n",
    "                    d_hidden_size, \n",
    "                    leaky_alpha, \n",
    "                    g_learning_rate,\n",
    "                    d_learning_rate):\n",
    "    K.clear_session()\n",
    "    \n",
    "    generator = Sequential([\n",
    "        Dense(g_hidden_size, input_shape=(sample_size,)),\n",
    "        LeakyReLU(alpha=leaky_alpha),\n",
    "        Dense(784),        \n",
    "        Activation('tanh')\n",
    "    ], name='generator')    \n",
    "\n",
    "    discriminator = Sequential([\n",
    "        Dense(d_hidden_size, input_shape=(784,)),\n",
    "        LeakyReLU(alpha=leaky_alpha),\n",
    "        Dense(1),\n",
    "        Activation('sigmoid')\n",
    "    ], name='discriminator')    \n",
    "    \n",
    "    gan = Sequential([\n",
    "        generator,\n",
    "        discriminator\n",
    "    ])\n",
    "    \n",
    "    discriminator.compile(optimizer=Adam(lr=d_learning_rate), loss='binary_crossentropy')\n",
    "    gan.compile(optimizer=Adam(lr=g_learning_rate), loss='binary_crossentropy')\n",
    "    \n",
    "    return gan, generator, discriminator "
   ]
  },
  {
   "cell_type": "markdown",
   "metadata": {},
   "source": [
    "## Training GAN\n",
    "\n",
    "### Preprocessing\n",
    "\n",
    "We need to flatten the digit image data as the fully connected input layer expects that.  Also, as the generator uses the **tanh** activation in the output layer, we scale all the MNIST images to have values between -1 and 1."
   ]
  },
  {
   "cell_type": "code",
   "execution_count": 15,
   "metadata": {
    "collapsed": true
   },
   "outputs": [],
   "source": [
    "def preprocess(x):    \n",
    "    x = x.reshape(-1, 784) # 784=28*28\n",
    "    x = np.float64(x)\n",
    "    x = (x / 255 - 0.5) * 2\n",
    "    x = np.clip(x, -1, 1)\n",
    "    return x"
   ]
  },
  {
   "cell_type": "code",
   "execution_count": 16,
   "metadata": {
    "collapsed": true
   },
   "outputs": [],
   "source": [
    "X_train_real = preprocess(X_train)\n",
    "X_test_real  = preprocess(X_test)"
   ]
  },
  {
   "cell_type": "markdown",
   "metadata": {},
   "source": [
    "### Deprocessing\n",
    "\n",
    "We also need a function to reverse the preprocessing so that we can display generated images."
   ]
  },
  {
   "cell_type": "code",
   "execution_count": 17,
   "metadata": {
    "collapsed": true
   },
   "outputs": [],
   "source": [
    "def deprocess(x):\n",
    "    x = (x / 2 + 1) * 255\n",
    "    x = np.clip(x, 0, 255)\n",
    "    x = np.uint8(x)\n",
    "    x = x.reshape(28, 28)\n",
    "    return x"
   ]
  },
  {
   "cell_type": "code",
   "execution_count": 18,
   "metadata": {},
   "outputs": [
    {
     "data": {
      "image/png": "[encoded data removed]",
      "text/plain": [
       "<matplotlib.figure.Figure at 0x7fbf2e797fd0>"
      ]
     },
     "metadata": {},
     "output_type": "display_data"
    }
   ],
   "source": [
    "plt.figure(figsize=(5, 4))\n",
    "for i in range(20):\n",
    "    img = deprocess(X_train_real[i])\n",
    "    plt.subplot(4, 5, i+1)\n",
    "    plt.imshow(img, cmap='gray')\n",
    "    plt.xticks([])\n",
    "    plt.yticks([])\n",
    "plt.tight_layout()\n",
    "plt.show()"
   ]
  },
  {
   "cell_type": "markdown",
   "metadata": {},
   "source": [
    "### Labels\n",
    "\n",
    "The labels are 1 (real) or 0 (fake) in 2D shape."
   ]
  },
  {
   "cell_type": "code",
   "execution_count": 19,
   "metadata": {
    "collapsed": true
   },
   "outputs": [],
   "source": [
    "def make_labels(size):\n",
    "    return np.ones([size, 1]), np.zeros([size, 1])"
   ]
  },
  {
   "cell_type": "markdown",
   "metadata": {},
   "source": [
    "The below is 10 sets of real and fake label values."
   ]
  },
  {
   "cell_type": "code",
   "execution_count": 20,
   "metadata": {},
   "outputs": [
    {
     "data": {
      "text/plain": [
       "(array([[ 1.],\n",
       "        [ 1.],\n",
       "        [ 1.],\n",
       "        [ 1.],\n",
       "        [ 1.],\n",
       "        [ 1.],\n",
       "        [ 1.],\n",
       "        [ 1.],\n",
       "        [ 1.],\n",
       "        [ 1.]]), array([[ 0.],\n",
       "        [ 0.],\n",
       "        [ 0.],\n",
       "        [ 0.],\n",
       "        [ 0.],\n",
       "        [ 0.],\n",
       "        [ 0.],\n",
       "        [ 0.],\n",
       "        [ 0.],\n",
       "        [ 0.]]))"
      ]
     },
     "execution_count": 20,
     "metadata": {},
     "output_type": "execute_result"
    }
   ],
   "source": [
    "y_real_10, y_fake_10 = make_labels(10)\n",
    "\n",
    "y_real_10, y_fake_10"
   ]
  },
  {
   "cell_type": "markdown",
   "metadata": {},
   "source": [
    "Later, we prepare the labels for training and evaluation using the train batch size and the test size.  "
   ]
  },
  {
   "cell_type": "markdown",
   "metadata": {},
   "source": [
    "### Label Smoothing\n",
    "\n",
    "One last point before we start training is the label smoothing which makes the discriminator generalize better [[4]](#ref4).\n",
    "\n",
    "For the real digit images, the labels are all 1s.  However, when we train the discriminator, we use a value slightly smaller than 1 with the real digit images.  Otherwise, the discriminator might overfit to the training data and rejects anything else that is slightly different from the training images."
   ]
  },
  {
   "cell_type": "markdown",
   "metadata": {},
   "source": [
    "### Training Loop\n",
    "\n",
    "We repeat the following to make both the discriminator and the generator better and better:\n",
    "\n",
    "* Prepare a batch of real images\n",
    "* Prepare a batch of fake images generated by the generator using latent samples\n",
    "* Make the discriminator trainable\n",
    "* Train the discriminator to classify the real and fake images\n",
    "* Make the discriminator non-trainable\n",
    "* Train the generator via the GAN\n",
    "\n",
    "When training the generator via the GAN, the expect labels are all 1s (real).  Initially, the generator produces not very realistic images so the discriminator classifies them as 0s (fake), which causes the back-propagation to adjust the weights inside the generator.  The discriminator is not affected as we set it non-trainable in this step."
   ]
  },
  {
   "cell_type": "code",
   "execution_count": 21,
   "metadata": {},
   "outputs": [
    {
     "name": "stdout",
     "output_type": "stream",
     "text": [
      "Epoch:   1/100 Discriminator Loss: 0.9538 Generator Loss: 5.5816\n",
      "Epoch:   2/100 Discriminator Loss: 0.1899 Generator Loss: 2.1410\n",
      "Epoch:   3/100 Discriminator Loss: 0.3655 Generator Loss: 1.4118\n",
      "Epoch:   4/100 Discriminator Loss: 0.1344 Generator Loss: 3.0701\n",
      "Epoch:   5/100 Discriminator Loss: 0.3473 Generator Loss: 2.3738\n",
      "Epoch:   6/100 Discriminator Loss: 0.5153 Generator Loss: 3.7222\n",
      "Epoch:   7/100 Discriminator Loss: 0.5159 Generator Loss: 3.5699\n",
      "Epoch:   8/100 Discriminator Loss: 0.7343 Generator Loss: 2.1149\n",
      "Epoch:   9/100 Discriminator Loss: 0.4661 Generator Loss: 2.3607\n",
      "Epoch:  10/100 Discriminator Loss: 0.2888 Generator Loss: 2.4522\n",
      "Epoch:  11/100 Discriminator Loss: 0.4095 Generator Loss: 1.5612\n",
      "Epoch:  12/100 Discriminator Loss: 0.5406 Generator Loss: 2.7845\n",
      "Epoch:  13/100 Discriminator Loss: 0.3287 Generator Loss: 2.6246\n",
      "Epoch:  14/100 Discriminator Loss: 0.2806 Generator Loss: 2.9350\n",
      "Epoch:  15/100 Discriminator Loss: 0.6982 Generator Loss: 3.5069\n",
      "Epoch:  16/100 Discriminator Loss: 0.4339 Generator Loss: 3.3039\n",
      "Epoch:  17/100 Discriminator Loss: 0.7092 Generator Loss: 1.9226\n",
      "Epoch:  18/100 Discriminator Loss: 0.8024 Generator Loss: 4.9868\n",
      "Epoch:  19/100 Discriminator Loss: 0.2961 Generator Loss: 2.8417\n",
      "Epoch:  20/100 Discriminator Loss: 0.5851 Generator Loss: 3.4906\n",
      "Epoch:  21/100 Discriminator Loss: 0.3387 Generator Loss: 1.9244\n",
      "Epoch:  22/100 Discriminator Loss: 0.4378 Generator Loss: 3.1012\n",
      "Epoch:  23/100 Discriminator Loss: 0.2871 Generator Loss: 2.0432\n",
      "Epoch:  24/100 Discriminator Loss: 0.3734 Generator Loss: 2.6555\n",
      "Epoch:  25/100 Discriminator Loss: 0.7119 Generator Loss: 2.8028\n",
      "Epoch:  26/100 Discriminator Loss: 0.1978 Generator Loss: 2.8457\n",
      "Epoch:  27/100 Discriminator Loss: 0.5232 Generator Loss: 2.5416\n",
      "Epoch:  28/100 Discriminator Loss: 0.2756 Generator Loss: 2.2270\n",
      "Epoch:  29/100 Discriminator Loss: 0.3289 Generator Loss: 3.0124\n",
      "Epoch:  30/100 Discriminator Loss: 0.5604 Generator Loss: 3.3040\n",
      "Epoch:  31/100 Discriminator Loss: 0.8915 Generator Loss: 3.2336\n",
      "Epoch:  32/100 Discriminator Loss: 0.6021 Generator Loss: 1.9195\n",
      "Epoch:  33/100 Discriminator Loss: 0.4144 Generator Loss: 3.0869\n",
      "Epoch:  34/100 Discriminator Loss: 0.6223 Generator Loss: 2.1233\n",
      "Epoch:  35/100 Discriminator Loss: 0.2667 Generator Loss: 2.5386\n",
      "Epoch:  36/100 Discriminator Loss: 0.3951 Generator Loss: 2.5837\n",
      "Epoch:  37/100 Discriminator Loss: 0.6367 Generator Loss: 2.4578\n",
      "Epoch:  38/100 Discriminator Loss: 0.4050 Generator Loss: 2.6965\n",
      "Epoch:  39/100 Discriminator Loss: 0.3699 Generator Loss: 2.7588\n",
      "Epoch:  40/100 Discriminator Loss: 0.6437 Generator Loss: 2.1038\n",
      "Epoch:  41/100 Discriminator Loss: 0.2477 Generator Loss: 3.1998\n",
      "Epoch:  42/100 Discriminator Loss: 0.3357 Generator Loss: 3.3893\n",
      "Epoch:  43/100 Discriminator Loss: 0.8104 Generator Loss: 2.9031\n",
      "Epoch:  44/100 Discriminator Loss: 0.5600 Generator Loss: 3.6187\n",
      "Epoch:  45/100 Discriminator Loss: 0.4684 Generator Loss: 2.3988\n",
      "Epoch:  46/100 Discriminator Loss: 0.2899 Generator Loss: 3.8236\n",
      "Epoch:  47/100 Discriminator Loss: 0.2372 Generator Loss: 3.9306\n",
      "Epoch:  48/100 Discriminator Loss: 0.5744 Generator Loss: 2.6210\n",
      "Epoch:  49/100 Discriminator Loss: 0.5644 Generator Loss: 2.2713\n",
      "Epoch:  50/100 Discriminator Loss: 0.9803 Generator Loss: 2.6462\n",
      "Epoch:  51/100 Discriminator Loss: 0.5349 Generator Loss: 3.0719\n",
      "Epoch:  52/100 Discriminator Loss: 0.8361 Generator Loss: 3.4607\n",
      "Epoch:  53/100 Discriminator Loss: 0.4824 Generator Loss: 3.0189\n",
      "Epoch:  54/100 Discriminator Loss: 0.6155 Generator Loss: 2.7298\n",
      "Epoch:  55/100 Discriminator Loss: 0.6074 Generator Loss: 2.4785\n",
      "Epoch:  56/100 Discriminator Loss: 0.6182 Generator Loss: 2.7999\n",
      "Epoch:  57/100 Discriminator Loss: 0.8172 Generator Loss: 2.2989\n",
      "Epoch:  58/100 Discriminator Loss: 0.6180 Generator Loss: 3.2786\n",
      "Epoch:  59/100 Discriminator Loss: 0.8217 Generator Loss: 3.1931\n",
      "Epoch:  60/100 Discriminator Loss: 0.6151 Generator Loss: 3.0382\n",
      "Epoch:  61/100 Discriminator Loss: 0.8208 Generator Loss: 3.2423\n",
      "Epoch:  62/100 Discriminator Loss: 0.7167 Generator Loss: 2.0826\n",
      "Epoch:  63/100 Discriminator Loss: 0.7112 Generator Loss: 2.6495\n",
      "Epoch:  64/100 Discriminator Loss: 0.5140 Generator Loss: 2.6749\n",
      "Epoch:  65/100 Discriminator Loss: 0.8169 Generator Loss: 2.7637\n",
      "Epoch:  66/100 Discriminator Loss: 0.5278 Generator Loss: 2.1983\n",
      "Epoch:  67/100 Discriminator Loss: 0.7610 Generator Loss: 3.1669\n",
      "Epoch:  68/100 Discriminator Loss: 0.5442 Generator Loss: 2.8738\n",
      "Epoch:  69/100 Discriminator Loss: 0.8466 Generator Loss: 2.0486\n",
      "Epoch:  70/100 Discriminator Loss: 0.6251 Generator Loss: 2.2485\n",
      "Epoch:  71/100 Discriminator Loss: 0.6418 Generator Loss: 2.2814\n",
      "Epoch:  72/100 Discriminator Loss: 0.4677 Generator Loss: 2.2908\n",
      "Epoch:  73/100 Discriminator Loss: 0.6132 Generator Loss: 2.8723\n",
      "Epoch:  74/100 Discriminator Loss: 0.7114 Generator Loss: 2.6701\n",
      "Epoch:  75/100 Discriminator Loss: 1.0905 Generator Loss: 1.9237\n",
      "Epoch:  76/100 Discriminator Loss: 0.9982 Generator Loss: 2.5257\n",
      "Epoch:  77/100 Discriminator Loss: 0.7214 Generator Loss: 2.1899\n",
      "Epoch:  78/100 Discriminator Loss: 0.7138 Generator Loss: 1.9392\n",
      "Epoch:  79/100 Discriminator Loss: 0.9038 Generator Loss: 2.3197\n",
      "Epoch:  80/100 Discriminator Loss: 1.0450 Generator Loss: 3.0043\n",
      "Epoch:  81/100 Discriminator Loss: 0.5381 Generator Loss: 2.9071\n",
      "Epoch:  82/100 Discriminator Loss: 0.5621 Generator Loss: 2.5895\n",
      "Epoch:  83/100 Discriminator Loss: 0.8544 Generator Loss: 3.3824\n",
      "Epoch:  84/100 Discriminator Loss: 0.8167 Generator Loss: 2.6601\n",
      "Epoch:  85/100 Discriminator Loss: 0.7621 Generator Loss: 2.9904\n",
      "Epoch:  86/100 Discriminator Loss: 0.8123 Generator Loss: 2.7157\n",
      "Epoch:  87/100 Discriminator Loss: 0.5252 Generator Loss: 3.1781\n",
      "Epoch:  88/100 Discriminator Loss: 0.9563 Generator Loss: 2.1756\n",
      "Epoch:  89/100 Discriminator Loss: 1.0338 Generator Loss: 2.7354\n",
      "Epoch:  90/100 Discriminator Loss: 0.5451 Generator Loss: 3.0826\n",
      "Epoch:  91/100 Discriminator Loss: 0.9634 Generator Loss: 3.0830\n",
      "Epoch:  92/100 Discriminator Loss: 0.7814 Generator Loss: 2.9515\n",
      "Epoch:  93/100 Discriminator Loss: 0.8324 Generator Loss: 3.5539\n",
      "Epoch:  94/100 Discriminator Loss: 1.8759 Generator Loss: 1.9687\n",
      "Epoch:  95/100 Discriminator Loss: 0.9151 Generator Loss: 2.2101\n",
      "Epoch:  96/100 Discriminator Loss: 0.9279 Generator Loss: 2.2720\n",
      "Epoch:  97/100 Discriminator Loss: 0.8894 Generator Loss: 3.2808\n",
      "Epoch:  98/100 Discriminator Loss: 0.9052 Generator Loss: 2.5838\n",
      "Epoch:  99/100 Discriminator Loss: 0.6043 Generator Loss: 2.9611\n",
      "Epoch: 100/100 Discriminator Loss: 0.5693 Generator Loss: 2.3100\n"
     ]
    }
   ],
   "source": [
    "# hyperparameters\n",
    "sample_size     = 100     # latent sample size (i.e., 100 random numbers)\n",
    "g_hidden_size   = 128\n",
    "d_hidden_size   = 128\n",
    "leaky_alpha     = 0.01\n",
    "g_learning_rate = 0.0001  # learning rate for the generator\n",
    "d_learning_rate = 0.001   # learning rate for the discriminator\n",
    "epochs          = 100\n",
    "batch_size      = 64      # train batch size\n",
    "eval_size       = 16      # evaluate size\n",
    "smooth          = 0.1\n",
    "\n",
    "# labels for the batch size and the test size\n",
    "y_train_real, y_train_fake = make_labels(batch_size)\n",
    "y_eval_real,  y_eval_fake  = make_labels(eval_size)\n",
    "\n",
    "# create a GAN, a generator and a discriminator\n",
    "gan, generator, discriminator = make_simple_GAN(\n",
    "    sample_size, \n",
    "    g_hidden_size, \n",
    "    d_hidden_size, \n",
    "    leaky_alpha, \n",
    "    g_learning_rate,\n",
    "    d_learning_rate)\n",
    "\n",
    "losses = []\n",
    "for e in range(epochs):\n",
    "    for i in range(len(X_train_real)//batch_size):\n",
    "        # real MNIST digit images\n",
    "        X_batch_real = X_train_real[i*batch_size:(i+1)*batch_size]\n",
    "        \n",
    "        # latent samples and the generated digit images\n",
    "        latent_samples = make_latent_samples(batch_size, sample_size)\n",
    "        X_batch_fake = generator.predict_on_batch(latent_samples)\n",
    "        \n",
    "        # train the discriminator to detect real and fake images\n",
    "        make_trainable(discriminator, True)\n",
    "        discriminator.train_on_batch(X_batch_real, y_train_real * (1 - smooth))\n",
    "        discriminator.train_on_batch(X_batch_fake, y_train_fake)\n",
    "\n",
    "        # train the generator via GAN\n",
    "        make_trainable(discriminator, False)\n",
    "        gan.train_on_batch(latent_samples, y_train_real)\n",
    "    \n",
    "    # evaluate\n",
    "    X_eval_real = X_test_real[np.random.choice(len(X_test_real), eval_size, replace=False)]\n",
    "    \n",
    "    latent_samples = make_latent_samples(eval_size, sample_size)\n",
    "    X_eval_fake = generator.predict_on_batch(latent_samples)\n",
    "\n",
    "    d_loss  = discriminator.test_on_batch(X_eval_real, y_eval_real)\n",
    "    d_loss += discriminator.test_on_batch(X_eval_fake, y_eval_fake)\n",
    "    g_loss  = gan.test_on_batch(latent_samples, y_eval_real) # we want the fake to be realistic!\n",
    "    \n",
    "    losses.append((d_loss, g_loss))\n",
    "    \n",
    "    print(\"Epoch: {:>3}/{} Discriminator Loss: {:>6.4f} Generator Loss: {:>6.4f}\".format(\n",
    "        e+1, epochs, d_loss, g_loss))    "
   ]
  },
  {
   "cell_type": "markdown",
   "metadata": {},
   "source": [
    "### Stabilizing GAN\n",
    "\n",
    "As it turns out, training a GAN is quite hard, and there are many tricks and heuristics required [[4]](#ref4).  It is because the discriminator and the generator are not cooperating and individually learning to predict better.  \n",
    "\n",
    "For example, the generator might learn to fool the discriminator with garbage.   Ideally, the discriminator should learn earlier than the generator so that it can classify images accurately.\n",
    "\n",
    "Therefore, I used different learning rates for the generator and the discriminator.  I wanted to slow down the generator learning so that the discriminator learns to classify well.\n",
    "\n",
    "I am not 100% certain if this is a generally good strategy to use but it does seem to work in this project.\n",
    "\n",
    "As the generator learns more and the loss decreases, the discriminator's loss increases.  I see kind of equilibrium around 80-90 epochs."
   ]
  },
  {
   "cell_type": "code",
   "execution_count": 22,
   "metadata": {},
   "outputs": [
    {
     "data": {
      "image/png": "[encoded data removed]",
      "text/plain": [
       "<matplotlib.figure.Figure at 0x7fbf2ea6e470>"
      ]
     },
     "metadata": {},
     "output_type": "display_data"
    }
   ],
   "source": [
    "losses = np.array(losses)\n",
    "\n",
    "fig, ax = plt.subplots()\n",
    "plt.plot(losses.T[0], label='Discriminator')\n",
    "plt.plot(losses.T[1], label='Generator')\n",
    "plt.title(\"Training Losses\")\n",
    "plt.legend()\n",
    "plt.show()"
   ]
  },
  {
   "cell_type": "markdown",
   "metadata": {},
   "source": [
    "### Tracking Failures\n",
    "\n",
    "According to [[4]](#ref4), \n",
    "\n",
    "* The discriminator loss = 0 means something is wrong\n",
    "* When things are working, the discriminator loss has low variance and goes down over time.\n",
    "* When things are not working, the discriminator loss has huge variance and spiking\n",
    "* If the generator loss steadily decreases, it is fooling the discriminator with garbage.\n",
    "\n",
    "\n",
    "### Don't balance via loss statistics \n",
    "\n",
    "According to [[4]](#ref4), \n",
    "\n",
    "* i.e., don't try to find a (number of G/number of D) schedule to uncollapse training"
   ]
  },
  {
   "cell_type": "markdown",
   "metadata": {},
   "source": [
    "## Testing the Generator\n",
    "\n",
    "Now we generates some digit images using the trained generator."
   ]
  },
  {
   "cell_type": "code",
   "execution_count": 23,
   "metadata": {},
   "outputs": [
    {
     "data": {
      "image/png": "[encoded data removed]",
      "text/plain": [
       "<matplotlib.figure.Figure at 0x7fbf2ec1dc50>"
      ]
     },
     "metadata": {},
     "output_type": "display_data"
    }
   ],
   "source": [
    "latent_samples = make_latent_samples(20, sample_size)\n",
    "generated_digits = generator.predict(latent_samples)\n",
    "\n",
    "plt.figure(figsize=(10, 8))\n",
    "for i in range(20):\n",
    "    img = deprocess(generated_digits[i])\n",
    "    plt.subplot(4, 5, i+1)\n",
    "    plt.imshow(img, cmap='gray')\n",
    "    plt.xticks([])\n",
    "    plt.yticks([])\n",
    "plt.tight_layout()\n",
    "plt.show()"
   ]
  },
  {
   "cell_type": "markdown",
   "metadata": {},
   "source": [
    "The results are not outstanding as we are using simple networks.  Deep Convolutional GAN (aka DCGAN) would produce better results than this."
   ]
  },
  {
   "cell_type": "markdown",
   "metadata": {},
   "source": [
    "## References\n",
    "\n",
    "<a id=\"ref1\"></a>\n",
    "### [1] Generative Adversarial Networks\n",
    " \n",
    "Ian J. Goodfellow, Jean Pouget-Abadie, Mehdi Mirza, Bing Xu, David Warde-Farley, Sherjil Ozair, Aaron Courville, Yoshua Bengio\n",
    "  \n",
    "https://arxiv.org/abs/1406.2661\n",
    " \n",
    "<a id=\"ref2\"></a> \n",
    "### [2] GAN MNIST Example in TensorFlow\n",
    " \n",
    "Udacity\n",
    " \n",
    "https://github.com/udacity/deep-learning/tree/master/gan_mnist\n",
    "\n",
    "<a id=\"ref3\"></a>\n",
    "### [3] MNIST dataset\n",
    " \n",
    "Yann LeCun\n",
    " \n",
    "http://yann.lecun.com/exdb/mnist/\n",
    "\n",
    "<a id=\"ref4\"></a>\n",
    "### [4] How to Train a GAN? Tips and tricks to make GANs work\n",
    "\n",
    "Facebook AI Research: Soumith Chintala, Emily Denton, Martin Arjovsky, Michael Mathieu\n",
    "\n",
    "https://github.com/soumith/ganhacks\n",
    "\n",
    "https://www.youtube.com/watch?v=X1mUN6dD8uE\n"
   ]
  }
 ],
 "metadata": {
  "kernelspec": {
   "display_name": "Python 3",
   "language": "python",
   "name": "python3"
  },
  "language_info": {
   "codemirror_mode": {
    "name": "ipython",
    "version": 3
   },
   "file_extension": ".py",
   "mimetype": "text/x-python",
   "name": "python",
   "nbconvert_exporter": "python",
   "pygments_lexer": "ipython3",
   "version": "3.6.2"
  }
 },
 "nbformat": 4,
 "nbformat_minor": 2
}
