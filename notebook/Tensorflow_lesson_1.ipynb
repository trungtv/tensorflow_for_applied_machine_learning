{
 "cells": [
  {
   "cell_type": "code",
   "execution_count": 2,
   "metadata": {},
   "outputs": [
    {
     "name": "stdout",
     "output_type": "stream",
     "text": [
      "x= [[1 2 3]\n",
      " [3 5 6]]\n",
      "y= [3 5 6]\n",
      "z= [2 5]\n"
     ]
    }
   ],
   "source": [
    "import tensorflow as tf\n",
    "x = tf.constant(2, name='x')\n",
    "y = tf.constant(3, name='y')\n",
    "z = tf.constant(4, name='z')\n",
    "x_y = tf.add(x, y, name='x_y')\n",
    "y_z = tf.add(y, z, name='y_z')\n",
    "x_y_z = tf.add(x, y_z, name='x_y_z')\n",
    "x_y_y_z = tf.add(x_y, y_z, name='x_y_y_z')\n",
    "my_matrix = tf.constant([[1,2,3],[3,5,6]])\n",
    "my_row_vector = my_matrix[1]\n",
    "my_column_vector = my_matrix[:, 1]\n",
    "\n",
    "squarish_squares = tf.Variable([ [4, 9], [16, 25] ], tf.int32)\n",
    "r = tf.rank(squarish_squares)\n",
    "writer = tf.summary.FileWriter('./graphs', tf.get_default_graph())\n",
    "\n",
    "my_matrix = tf.constant([[1,2,3],[3,5,6]])\n",
    "my_row_vector = my_matrix[1]\n",
    "my_column_vector = my_matrix[:, 1]\n",
    "\n",
    "with tf.Session() as sess:\n",
    "    x, y, z = sess.run([my_matrix, my_row_vector, my_column_vector])\n",
    "    print('x=', x)\n",
    "    print('y=', y)\n",
    "    print('z=', z)"
   ]
  },
  {
   "cell_type": "code",
   "execution_count": null,
   "metadata": {
    "collapsed": true
   },
   "outputs": [],
   "source": [
    "my_row_vector"
   ]
  },
  {
   "cell_type": "code",
   "execution_count": null,
   "metadata": {
    "collapsed": true
   },
   "outputs": [],
   "source": [
    "linear_squares = tf.Variable([[4], [9], [16], [25]], tf.int32)"
   ]
  },
  {
   "cell_type": "code",
   "execution_count": null,
   "metadata": {
    "collapsed": true
   },
   "outputs": [],
   "source": [
    "tf.rank(linear_squares)"
   ]
  },
  {
   "cell_type": "code",
   "execution_count": null,
   "metadata": {
    "collapsed": true
   },
   "outputs": [],
   "source": [
    "mymat = tf.Variable([[7],[11]], tf.int16)"
   ]
  },
  {
   "cell_type": "code",
   "execution_count": null,
   "metadata": {
    "collapsed": true
   },
   "outputs": [],
   "source": [
    "mymat"
   ]
  },
  {
   "cell_type": "code",
   "execution_count": null,
   "metadata": {
    "collapsed": true
   },
   "outputs": [],
   "source": [
    "tf.rank(mymat)"
   ]
  },
  {
   "cell_type": "code",
   "execution_count": null,
   "metadata": {
    "collapsed": true
   },
   "outputs": [],
   "source": [
    "tf.rank(linear_squares)"
   ]
  },
  {
   "cell_type": "code",
   "execution_count": null,
   "metadata": {
    "collapsed": true
   },
   "outputs": [],
   "source": [
    "tf.Variable([ [4, 9], [16, 25] ], tf.int32)"
   ]
  },
  {
   "cell_type": "code",
   "execution_count": null,
   "metadata": {
    "collapsed": true
   },
   "outputs": [],
   "source": [
    "my_const = tf.constant([1, 2, 3, 4, 5])\n",
    "with tf.Session() as sess:\n",
    "\tprint(sess.graph.as_graph_def())"
   ]
  },
  {
   "cell_type": "code",
   "execution_count": null,
   "metadata": {
    "collapsed": true
   },
   "outputs": [],
   "source": [
    "t = tf.add(3,4)\n",
    "tf.Print(t, [t])  # This does nothing\n",
    "t = tf.Print(t, [t])  # Here we are using the value returned by tf.Print\n",
    "result = t + 1  # Now when result is evaluated the value of `t` will be printed.\n",
    "with tf.Session() as sess:\n",
    "    print(t.eval())\n",
    "    print(sess.run(result))"
   ]
  },
  {
   "cell_type": "code",
   "execution_count": null,
   "metadata": {
    "collapsed": true
   },
   "outputs": [],
   "source": [
    "# Initialize session \n",
    "import tensorflow as tf\n",
    "sess = tf.InteractiveSession()\n",
    "\n",
    "# Some tensor we want to print the value of\n",
    "a = tf.constant([1.0, 3.0])\n",
    "\n",
    "# Add print operation\n",
    "a = tf.Print(a, [a], message=\"This is a: \")\n",
    "\n",
    "# Add more elements of the graph using a\n",
    "b = tf.add(a, a)\n",
    "\n",
    "print(b.eval())"
   ]
  },
  {
   "cell_type": "code",
   "execution_count": null,
   "metadata": {
    "collapsed": true
   },
   "outputs": [],
   "source": [
    "import tensorflow as tf\n",
    "with tf.Session() as sess:\n",
    "    my_variable = tf.get_variable(\"my_variable\", [1, 2, 3])"
   ]
  },
  {
   "cell_type": "code",
   "execution_count": null,
   "metadata": {
    "collapsed": true
   },
   "outputs": [],
   "source": [
    "p = tf.placeholder(tf.float32)\n",
    "t = p + 1.0\n",
    "with tf.Session() as sess:\n",
    "    # t.eval()  # This will fail, since the placeholder did not get a value.\n",
    "    print(t.eval(feed_dict={p:2.0}))"
   ]
  },
  {
   "cell_type": "code",
   "execution_count": null,
   "metadata": {
    "collapsed": true
   },
   "outputs": [],
   "source": [
    "import tensorflow as tf\n",
    "x = tf.add(3,4)\n",
    "writer = tf.summary.FileWriter('./graphs', tf.get_default_graph())\n",
    "\n",
    "with tf.Session() as sess:\n",
    "    x = sess.run(x)\n",
    "    print('x=', x)\n"
   ]
  },
  {
   "cell_type": "code",
   "execution_count": null,
   "metadata": {
    "collapsed": true
   },
   "outputs": [],
   "source": [
    "sess =tf.InteractiveSession()\n",
    "tf.lin_space(10.0, 13.0, 8).eval()"
   ]
  },
  {
   "cell_type": "code",
   "execution_count": null,
   "metadata": {
    "collapsed": true
   },
   "outputs": [],
   "source": [
    "import numpy as np\n",
    "import tensorflow as tf \n",
    "\n",
    "with tf.Graph().as_default() as g:\n",
    "    g.prevent_feeding(x)\n",
    "    g.prevent_feeding(y)\n",
    "    x = tf.constant(2, tf.int32) \n",
    "    y = x * x\n",
    "    with tf.Session() as sess: \n",
    "        print(sess.run(y, feed_dict={x: 4}))\n",
    "        print(sess.graph.is_feedable(y))  # False!"
   ]
  },
  {
   "cell_type": "code",
   "execution_count": 15,
   "metadata": {
    "collapsed": true
   },
   "outputs": [],
   "source": [
    "import tensorflow as tf \n",
    "# create variables with tf.get_variable\n",
    "#s = tf.get_variable(\"scalar\", initializer=tf.constant(2)) \n",
    "s = tf.constant(2)\n",
    "s = s + 2\n",
    "#m = tf.get_variable(\"matrix\", initializer=tf.constant([[0, 1], [2, 3]]))\n",
    "#W = tf.get_variable(\"big_matrix\", shape=(784, 10), initializer=tf.zeros_initializer())\n",
    "\n"
   ]
  },
  {
   "cell_type": "code",
   "execution_count": 23,
   "metadata": {},
   "outputs": [
    {
     "name": "stdout",
     "output_type": "stream",
     "text": [
      "10\n",
      "10\n"
     ]
    }
   ],
   "source": [
    "with tf.Session() as sess:\n",
    "    sess.run(tf.global_variables_initializer())\n",
    "    print(sess.run(s))\n",
    "#    s += 2\n",
    "    print(sess.run(s))\n"
   ]
  },
  {
   "cell_type": "code",
   "execution_count": 5,
   "metadata": {},
   "outputs": [
    {
     "name": "stdout",
     "output_type": "stream",
     "text": [
      "Result number * multiplier =  4\n",
      "Result number * multiplier =  6\n",
      "Result number * multiplier =  8\n",
      "Result number * multiplier =  10\n",
      "Result number * multiplier =  12\n",
      "Result number * multiplier =  14\n",
      "Result number * multiplier =  16\n",
      "Result number * multiplier =  18\n",
      "Result number * multiplier =  20\n",
      "Result number * multiplier =  22\n"
     ]
    }
   ],
   "source": [
    "import tensorflow as tf\n",
    "# changing values \n",
    "number = tf.Variable(2)\n",
    "multiplier = tf.Variable(1)\n",
    "#multiplier += 1\n",
    "multiplier = multiplier.assign_add(1)\n",
    "init = tf.global_variables_initializer()\n",
    "result = tf.multiply(number,multiplier)\n",
    "with tf.Session() as sess:\n",
    "    sess.run(init)\n",
    "    for i in range(10):\n",
    "        print(\"Result number * multiplier = \",sess.run(result))\n",
    "\n",
    "        # print(\"Increment multiplier, new value = \",sess.run(multiplier.assign_add(1)))"
   ]
  },
  {
   "cell_type": "code",
   "execution_count": 3,
   "metadata": {},
   "outputs": [
    {
     "name": "stdout",
     "output_type": "stream",
     "text": [
      "Result number * multiplier =  4\n",
      "Result number * multiplier =  4\n",
      "Result number * multiplier =  4\n",
      "Result number * multiplier =  4\n",
      "Result number * multiplier =  4\n",
      "Result number * multiplier =  4\n",
      "Result number * multiplier =  4\n",
      "Result number * multiplier =  4\n",
      "Result number * multiplier =  4\n",
      "Result number * multiplier =  4\n"
     ]
    }
   ],
   "source": [
    "# changing values \n",
    "number = tf.constant(2)\n",
    "multiplier = tf.constant(1)\n",
    "multiplier = tf.add(multiplier, 1)\n",
    "init = tf.global_variables_initializer()\n",
    "result = tf.multiply(number,multiplier)\n",
    "with tf.Session() as sess:\n",
    "    sess.run(init)\n",
    "    for i in range(10):\n",
    "        print(\"Result number * multiplier = \",sess.run(result))\n",
    "\n",
    "        # print(\"Increment multiplier, new value = \",sess.run(multiplier.assign_add(1)))"
   ]
  },
  {
   "cell_type": "code",
   "execution_count": null,
   "metadata": {
    "collapsed": true
   },
   "outputs": [],
   "source": [
    "with tf.Session() as sess:\n",
    "    # sess.run(tf.global_variables_initializer())\n",
    "    print(sess.run(s))\n"
   ]
  },
  {
   "cell_type": "code",
   "execution_count": 56,
   "metadata": {},
   "outputs": [
    {
     "data": {
      "text/plain": [
       "<tf.Tensor 'AssignAdd_28:0' shape=() dtype=int32_ref>"
      ]
     },
     "execution_count": 56,
     "metadata": {},
     "output_type": "execute_result"
    }
   ],
   "source": [
    "multiplier"
   ]
  },
  {
   "cell_type": "code",
   "execution_count": 7,
   "metadata": {},
   "outputs": [
    {
     "name": "stdout",
     "output_type": "stream",
     "text": [
      "10\n"
     ]
    }
   ],
   "source": [
    "W = tf.Variable(10)\n",
    "W.assign(100)\n",
    "with tf.Session() as sess:\n",
    "\tsess.run(W.initializer)\n",
    "\tprint(W.eval()) \t\t\t\t# >> ????\n"
   ]
  },
  {
   "cell_type": "code",
   "execution_count": 1,
   "metadata": {},
   "outputs": [
    {
     "name": "stderr",
     "output_type": "stream",
     "text": [
      "/Users/trungtv/anaconda3/lib/python3.6/site-packages/h5py/__init__.py:34: FutureWarning: Conversion of the second argument of issubdtype from `float` to `np.floating` is deprecated. In future, it will be treated as `np.float64 == np.dtype(float).type`.\n",
      "  from ._conv import register_converters as _register_converters\n"
     ]
    },
    {
     "name": "stdout",
     "output_type": "stream",
     "text": [
      "[3. 2. 3.]\n"
     ]
    }
   ],
   "source": [
    "import tensorflow as tf \n",
    "a = tf.constant([2, 2, 2], tf.float32) \n",
    "with tf.Session() as sess: \n",
    "         print(sess.run(a, feed_dict={a: [3, 2, 3]}))"
   ]
  },
  {
   "cell_type": "code",
   "execution_count": null,
   "metadata": {
    "collapsed": true
   },
   "outputs": [],
   "source": []
  }
 ],
 "metadata": {
  "kernelspec": {
   "display_name": "Python 3",
   "language": "python",
   "name": "python3"
  },
  "language_info": {
   "codemirror_mode": {
    "name": "ipython",
    "version": 3
   },
   "file_extension": ".py",
   "mimetype": "text/x-python",
   "name": "python",
   "nbconvert_exporter": "python",
   "pygments_lexer": "ipython3",
   "version": "3.6.3"
  }
 },
 "nbformat": 4,
 "nbformat_minor": 2
}
